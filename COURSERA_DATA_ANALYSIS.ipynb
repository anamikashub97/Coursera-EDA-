{
 "cells": [
  {
   "cell_type": "markdown",
   "metadata": {},
   "source": [
    "# COURSERA DATA ANALYSIS\n",
    "\n",
    "A Jovian python data analysis course final project. "
   ]
  },
  {
   "cell_type": "markdown",
   "metadata": {},
   "source": [
    "# Introduction:\n",
    "Coursera is a leading online learning platform that offers a wide range of courses, specializations and degree programs in various fields. It was founded in 2012 by a professor of Standford University with a vision of providing great learning experiences. Coursera collaborates with renowned universities and organisations to provide the best learning experiences to the students around the world by collaborating with the organisations and universities. \n",
    "In this dataset, which was gathered from the Coursera website itself includes ratings from the learners along with some other informations like the course difficulty levels, organisations providing the courses, enrollment size per courses etc. \n",
    "Various in-built library packages like: Numpy, Matplotlib, Pandas, Seaborn Python packages has been used in this project.\n",
    "\n",
    "The course \"Data Analysis with Python: Zero to Pandas\" is a great course for a beginner like me. It has helped me understand the basic of functions, methods, variables, datatypes and many more python concepts. It has also improved my understanding of data analysis concepts. Learning matplotlib and seaborn package and applying all the concepts in the course project is a great way to sharpen the concepts learned in the course."
   ]
  },
  {
   "cell_type": "markdown",
   "metadata": {
    "heading_collapsed": true
   },
   "source": [
    "# Objective:\n",
    "\n",
    "The objective of this project is to deliver insights to understand the coursera course ratings and the enrollment better and thus help the students to choose the right courses. The dataset is chosen from Kaggle. It is of 891Coursera courses for analyzing the course variety. It consists of in total of 891 rows and  columns."
   ]
  },
  {
   "cell_type": "markdown",
   "metadata": {},
   "source": [
    "# 1.0 Package Install and Import\n",
    "First, we will install and import necessary packages."
   ]
  },
  {
   "cell_type": "code",
   "execution_count": 2,
   "metadata": {},
   "outputs": [],
   "source": [
    "import jovian"
   ]
  },
  {
   "cell_type": "code",
   "execution_count": 3,
   "metadata": {},
   "outputs": [],
   "source": [
    "!pip install jovian --upgrade --quiet"
   ]
  },
  {
   "cell_type": "code",
   "execution_count": 4,
   "metadata": {},
   "outputs": [],
   "source": [
    "!pip install matplotlib seaborn --upgrade --quiet"
   ]
  },
  {
   "cell_type": "code",
   "execution_count": 5,
   "metadata": {},
   "outputs": [
    {
     "name": "stdout",
     "output_type": "stream",
     "text": [
      "Requirement already satisfied: pandas in /opt/conda/lib/python3.9/site-packages (2.0.3)\n",
      "Requirement already satisfied: tzdata>=2022.1 in /opt/conda/lib/python3.9/site-packages (from pandas) (2023.3)\n",
      "Requirement already satisfied: pytz>=2020.1 in /opt/conda/lib/python3.9/site-packages (from pandas) (2021.3)\n",
      "Requirement already satisfied: python-dateutil>=2.8.2 in /opt/conda/lib/python3.9/site-packages (from pandas) (2.8.2)\n",
      "Requirement already satisfied: numpy>=1.20.3 in /opt/conda/lib/python3.9/site-packages (from pandas) (1.20.3)\n",
      "Requirement already satisfied: six>=1.5 in /opt/conda/lib/python3.9/site-packages (from python-dateutil>=2.8.2->pandas) (1.16.0)\n"
     ]
    }
   ],
   "source": [
    "!pip install pandas --upgrade"
   ]
  },
  {
   "cell_type": "code",
   "execution_count": 6,
   "metadata": {},
   "outputs": [
    {
     "name": "stdout",
     "output_type": "stream",
     "text": [
      "Requirement already satisfied: opendatasets in /opt/conda/lib/python3.9/site-packages (0.1.22)\n",
      "Requirement already satisfied: kaggle in /opt/conda/lib/python3.9/site-packages (from opendatasets) (1.5.16)\n",
      "Requirement already satisfied: click in /opt/conda/lib/python3.9/site-packages (from opendatasets) (8.0.3)\n",
      "Requirement already satisfied: tqdm in /opt/conda/lib/python3.9/site-packages (from opendatasets) (4.62.3)\n",
      "Requirement already satisfied: requests in /opt/conda/lib/python3.9/site-packages (from kaggle->opendatasets) (2.26.0)\n",
      "Requirement already satisfied: certifi in /opt/conda/lib/python3.9/site-packages (from kaggle->opendatasets) (2021.10.8)\n",
      "Requirement already satisfied: python-dateutil in /opt/conda/lib/python3.9/site-packages (from kaggle->opendatasets) (2.8.2)\n",
      "Requirement already satisfied: bleach in /opt/conda/lib/python3.9/site-packages (from kaggle->opendatasets) (4.1.0)\n",
      "Requirement already satisfied: python-slugify in /opt/conda/lib/python3.9/site-packages (from kaggle->opendatasets) (8.0.1)\n",
      "Requirement already satisfied: urllib3 in /opt/conda/lib/python3.9/site-packages (from kaggle->opendatasets) (1.26.7)\n",
      "Requirement already satisfied: six>=1.10 in /opt/conda/lib/python3.9/site-packages (from kaggle->opendatasets) (1.16.0)\n",
      "Requirement already satisfied: webencodings in /opt/conda/lib/python3.9/site-packages (from bleach->kaggle->opendatasets) (0.5.1)\n",
      "Requirement already satisfied: packaging in /opt/conda/lib/python3.9/site-packages (from bleach->kaggle->opendatasets) (21.2)\n",
      "Requirement already satisfied: text-unidecode>=1.3 in /opt/conda/lib/python3.9/site-packages (from python-slugify->kaggle->opendatasets) (1.3)\n",
      "Requirement already satisfied: charset-normalizer~=2.0.0 in /opt/conda/lib/python3.9/site-packages (from requests->kaggle->opendatasets) (2.0.0)\n",
      "Requirement already satisfied: idna<4,>=2.5 in /opt/conda/lib/python3.9/site-packages (from requests->kaggle->opendatasets) (3.1)\n",
      "Requirement already satisfied: pyparsing<3,>=2.0.2 in /opt/conda/lib/python3.9/site-packages (from packaging->bleach->kaggle->opendatasets) (2.4.7)\n",
      "Note: you may need to restart the kernel to use updated packages.\n"
     ]
    }
   ],
   "source": [
    "pip install opendatasets --upgrade"
   ]
  },
  {
   "cell_type": "code",
   "execution_count": 7,
   "metadata": {},
   "outputs": [
    {
     "name": "stdout",
     "output_type": "stream",
     "text": [
      "Requirement already satisfied: numerize in /opt/conda/lib/python3.9/site-packages (0.12)\n",
      "Note: you may need to restart the kernel to use updated packages.\n"
     ]
    }
   ],
   "source": [
    "pip install numerize"
   ]
  },
  {
   "cell_type": "code",
   "execution_count": 8,
   "metadata": {},
   "outputs": [],
   "source": [
    "import pandas as pd\n",
    "import numpy as np\n",
    "import seaborn as sns\n",
    "import matplotlib.pyplot as plt\n",
    "%matplotlib inline\n",
    "import matplotlib\n",
    "import os"
   ]
  },
  {
   "cell_type": "markdown",
   "metadata": {},
   "source": [
    "# 2.0 Loading the Dataset\n",
    "Now we will load the dataset using the standard read_csv command from Pandas. Lets take a look on the data set."
   ]
  },
  {
   "cell_type": "code",
   "execution_count": 11,
   "metadata": {},
   "outputs": [],
   "source": [
    "coursera_df0 = pd.read_csv(\"coursera_data.csv\")"
   ]
  },
  {
   "cell_type": "code",
   "execution_count": 12,
   "metadata": {},
   "outputs": [
    {
     "data": {
      "text/html": [
       "<div>\n",
       "<style scoped>\n",
       "    .dataframe tbody tr th:only-of-type {\n",
       "        vertical-align: middle;\n",
       "    }\n",
       "\n",
       "    .dataframe tbody tr th {\n",
       "        vertical-align: top;\n",
       "    }\n",
       "\n",
       "    .dataframe thead th {\n",
       "        text-align: right;\n",
       "    }\n",
       "</style>\n",
       "<table border=\"1\" class=\"dataframe\">\n",
       "  <thead>\n",
       "    <tr style=\"text-align: right;\">\n",
       "      <th></th>\n",
       "      <th>Unnamed: 0</th>\n",
       "      <th>course_title</th>\n",
       "      <th>course_organization</th>\n",
       "      <th>course_Certificate_type</th>\n",
       "      <th>course_rating</th>\n",
       "      <th>course_difficulty</th>\n",
       "      <th>course_students_enrolled</th>\n",
       "    </tr>\n",
       "  </thead>\n",
       "  <tbody>\n",
       "    <tr>\n",
       "      <th>0</th>\n",
       "      <td>134</td>\n",
       "      <td>(ISC)² Systems Security Certified Practitioner...</td>\n",
       "      <td>(ISC)²</td>\n",
       "      <td>SPECIALIZATION</td>\n",
       "      <td>4.7</td>\n",
       "      <td>Beginner</td>\n",
       "      <td>5.3k</td>\n",
       "    </tr>\n",
       "    <tr>\n",
       "      <th>1</th>\n",
       "      <td>743</td>\n",
       "      <td>A Crash Course in Causality:  Inferring Causal...</td>\n",
       "      <td>University of Pennsylvania</td>\n",
       "      <td>COURSE</td>\n",
       "      <td>4.7</td>\n",
       "      <td>Intermediate</td>\n",
       "      <td>17k</td>\n",
       "    </tr>\n",
       "    <tr>\n",
       "      <th>2</th>\n",
       "      <td>874</td>\n",
       "      <td>A Crash Course in Data Science</td>\n",
       "      <td>Johns Hopkins University</td>\n",
       "      <td>COURSE</td>\n",
       "      <td>4.5</td>\n",
       "      <td>Mixed</td>\n",
       "      <td>130k</td>\n",
       "    </tr>\n",
       "    <tr>\n",
       "      <th>3</th>\n",
       "      <td>413</td>\n",
       "      <td>A Law Student's Toolkit</td>\n",
       "      <td>Yale University</td>\n",
       "      <td>COURSE</td>\n",
       "      <td>4.7</td>\n",
       "      <td>Mixed</td>\n",
       "      <td>91k</td>\n",
       "    </tr>\n",
       "    <tr>\n",
       "      <th>4</th>\n",
       "      <td>635</td>\n",
       "      <td>A Life of Happiness and Fulfillment</td>\n",
       "      <td>Indian School of Business</td>\n",
       "      <td>COURSE</td>\n",
       "      <td>4.8</td>\n",
       "      <td>Mixed</td>\n",
       "      <td>320k</td>\n",
       "    </tr>\n",
       "    <tr>\n",
       "      <th>...</th>\n",
       "      <td>...</td>\n",
       "      <td>...</td>\n",
       "      <td>...</td>\n",
       "      <td>...</td>\n",
       "      <td>...</td>\n",
       "      <td>...</td>\n",
       "      <td>...</td>\n",
       "    </tr>\n",
       "    <tr>\n",
       "      <th>886</th>\n",
       "      <td>236</td>\n",
       "      <td>Программирование на Python</td>\n",
       "      <td>Mail.Ru Group</td>\n",
       "      <td>SPECIALIZATION</td>\n",
       "      <td>4.5</td>\n",
       "      <td>Intermediate</td>\n",
       "      <td>52k</td>\n",
       "    </tr>\n",
       "    <tr>\n",
       "      <th>887</th>\n",
       "      <td>883</td>\n",
       "      <td>Психолингвистика (Psycholinguistics)</td>\n",
       "      <td>Saint Petersburg State University</td>\n",
       "      <td>COURSE</td>\n",
       "      <td>4.8</td>\n",
       "      <td>Mixed</td>\n",
       "      <td>21k</td>\n",
       "    </tr>\n",
       "    <tr>\n",
       "      <th>888</th>\n",
       "      <td>545</td>\n",
       "      <td>Разработка интерфейсов: вёрстка и JavaScript</td>\n",
       "      <td>E-Learning Development Fund</td>\n",
       "      <td>SPECIALIZATION</td>\n",
       "      <td>4.5</td>\n",
       "      <td>Intermediate</td>\n",
       "      <td>30k</td>\n",
       "    </tr>\n",
       "    <tr>\n",
       "      <th>889</th>\n",
       "      <td>875</td>\n",
       "      <td>Русский как иностранный</td>\n",
       "      <td>Saint Petersburg State University</td>\n",
       "      <td>SPECIALIZATION</td>\n",
       "      <td>4.6</td>\n",
       "      <td>Intermediate</td>\n",
       "      <td>9.8k</td>\n",
       "    </tr>\n",
       "    <tr>\n",
       "      <th>890</th>\n",
       "      <td>163</td>\n",
       "      <td>Финансовые инструменты для частного инвестора</td>\n",
       "      <td>National Research University Higher School of ...</td>\n",
       "      <td>SPECIALIZATION</td>\n",
       "      <td>4.7</td>\n",
       "      <td>Beginner</td>\n",
       "      <td>38k</td>\n",
       "    </tr>\n",
       "  </tbody>\n",
       "</table>\n",
       "<p>891 rows × 7 columns</p>\n",
       "</div>"
      ],
      "text/plain": [
       "     Unnamed: 0                                       course_title  \\\n",
       "0           134  (ISC)² Systems Security Certified Practitioner...   \n",
       "1           743  A Crash Course in Causality:  Inferring Causal...   \n",
       "2           874                     A Crash Course in Data Science   \n",
       "3           413                            A Law Student's Toolkit   \n",
       "4           635                A Life of Happiness and Fulfillment   \n",
       "..          ...                                                ...   \n",
       "886         236                         Программирование на Python   \n",
       "887         883               Психолингвистика (Psycholinguistics)   \n",
       "888         545       Разработка интерфейсов: вёрстка и JavaScript   \n",
       "889         875                            Русский как иностранный   \n",
       "890         163      Финансовые инструменты для частного инвестора   \n",
       "\n",
       "                                   course_organization  \\\n",
       "0                                               (ISC)²   \n",
       "1                           University of Pennsylvania   \n",
       "2                             Johns Hopkins University   \n",
       "3                                      Yale University   \n",
       "4                            Indian School of Business   \n",
       "..                                                 ...   \n",
       "886                                      Mail.Ru Group   \n",
       "887                  Saint Petersburg State University   \n",
       "888                        E-Learning Development Fund   \n",
       "889                  Saint Petersburg State University   \n",
       "890  National Research University Higher School of ...   \n",
       "\n",
       "    course_Certificate_type  course_rating course_difficulty  \\\n",
       "0            SPECIALIZATION            4.7          Beginner   \n",
       "1                    COURSE            4.7      Intermediate   \n",
       "2                    COURSE            4.5             Mixed   \n",
       "3                    COURSE            4.7             Mixed   \n",
       "4                    COURSE            4.8             Mixed   \n",
       "..                      ...            ...               ...   \n",
       "886          SPECIALIZATION            4.5      Intermediate   \n",
       "887                  COURSE            4.8             Mixed   \n",
       "888          SPECIALIZATION            4.5      Intermediate   \n",
       "889          SPECIALIZATION            4.6      Intermediate   \n",
       "890          SPECIALIZATION            4.7          Beginner   \n",
       "\n",
       "    course_students_enrolled  \n",
       "0                       5.3k  \n",
       "1                        17k  \n",
       "2                       130k  \n",
       "3                        91k  \n",
       "4                       320k  \n",
       "..                       ...  \n",
       "886                      52k  \n",
       "887                      21k  \n",
       "888                      30k  \n",
       "889                     9.8k  \n",
       "890                      38k  \n",
       "\n",
       "[891 rows x 7 columns]"
      ]
     },
     "execution_count": 12,
     "metadata": {},
     "output_type": "execute_result"
    }
   ],
   "source": [
    "coursera_df0"
   ]
  },
  {
   "cell_type": "markdown",
   "metadata": {},
   "source": [
    "After a look on the data set it looks like a course list dataset with the name of the organisations and ratings. With one unnamed column of serial numbers."
   ]
  },
  {
   "cell_type": "markdown",
   "metadata": {},
   "source": [
    "# 3.0 Data Preparation and Cleaning\n",
    "As per our dataset, we have one unnamed column."
   ]
  },
  {
   "cell_type": "markdown",
   "metadata": {},
   "source": [
    "### 3.1 Copying the dataset:\n",
    "Before making any changes to the data set, I would like to make a copy of the data set and make the necessary changes to the copied dataset."
   ]
  },
  {
   "cell_type": "code",
   "execution_count": 13,
   "metadata": {},
   "outputs": [],
   "source": [
    "coursera_df= coursera_df0.copy(deep= True)"
   ]
  },
  {
   "cell_type": "code",
   "execution_count": 14,
   "metadata": {},
   "outputs": [
    {
     "data": {
      "text/html": [
       "<div>\n",
       "<style scoped>\n",
       "    .dataframe tbody tr th:only-of-type {\n",
       "        vertical-align: middle;\n",
       "    }\n",
       "\n",
       "    .dataframe tbody tr th {\n",
       "        vertical-align: top;\n",
       "    }\n",
       "\n",
       "    .dataframe thead th {\n",
       "        text-align: right;\n",
       "    }\n",
       "</style>\n",
       "<table border=\"1\" class=\"dataframe\">\n",
       "  <thead>\n",
       "    <tr style=\"text-align: right;\">\n",
       "      <th></th>\n",
       "      <th>Unnamed: 0</th>\n",
       "      <th>course_title</th>\n",
       "      <th>course_organization</th>\n",
       "      <th>course_Certificate_type</th>\n",
       "      <th>course_rating</th>\n",
       "      <th>course_difficulty</th>\n",
       "      <th>course_students_enrolled</th>\n",
       "    </tr>\n",
       "  </thead>\n",
       "  <tbody>\n",
       "    <tr>\n",
       "      <th>0</th>\n",
       "      <td>134</td>\n",
       "      <td>(ISC)² Systems Security Certified Practitioner...</td>\n",
       "      <td>(ISC)²</td>\n",
       "      <td>SPECIALIZATION</td>\n",
       "      <td>4.7</td>\n",
       "      <td>Beginner</td>\n",
       "      <td>5.3k</td>\n",
       "    </tr>\n",
       "    <tr>\n",
       "      <th>1</th>\n",
       "      <td>743</td>\n",
       "      <td>A Crash Course in Causality:  Inferring Causal...</td>\n",
       "      <td>University of Pennsylvania</td>\n",
       "      <td>COURSE</td>\n",
       "      <td>4.7</td>\n",
       "      <td>Intermediate</td>\n",
       "      <td>17k</td>\n",
       "    </tr>\n",
       "    <tr>\n",
       "      <th>2</th>\n",
       "      <td>874</td>\n",
       "      <td>A Crash Course in Data Science</td>\n",
       "      <td>Johns Hopkins University</td>\n",
       "      <td>COURSE</td>\n",
       "      <td>4.5</td>\n",
       "      <td>Mixed</td>\n",
       "      <td>130k</td>\n",
       "    </tr>\n",
       "    <tr>\n",
       "      <th>3</th>\n",
       "      <td>413</td>\n",
       "      <td>A Law Student's Toolkit</td>\n",
       "      <td>Yale University</td>\n",
       "      <td>COURSE</td>\n",
       "      <td>4.7</td>\n",
       "      <td>Mixed</td>\n",
       "      <td>91k</td>\n",
       "    </tr>\n",
       "    <tr>\n",
       "      <th>4</th>\n",
       "      <td>635</td>\n",
       "      <td>A Life of Happiness and Fulfillment</td>\n",
       "      <td>Indian School of Business</td>\n",
       "      <td>COURSE</td>\n",
       "      <td>4.8</td>\n",
       "      <td>Mixed</td>\n",
       "      <td>320k</td>\n",
       "    </tr>\n",
       "    <tr>\n",
       "      <th>...</th>\n",
       "      <td>...</td>\n",
       "      <td>...</td>\n",
       "      <td>...</td>\n",
       "      <td>...</td>\n",
       "      <td>...</td>\n",
       "      <td>...</td>\n",
       "      <td>...</td>\n",
       "    </tr>\n",
       "    <tr>\n",
       "      <th>886</th>\n",
       "      <td>236</td>\n",
       "      <td>Программирование на Python</td>\n",
       "      <td>Mail.Ru Group</td>\n",
       "      <td>SPECIALIZATION</td>\n",
       "      <td>4.5</td>\n",
       "      <td>Intermediate</td>\n",
       "      <td>52k</td>\n",
       "    </tr>\n",
       "    <tr>\n",
       "      <th>887</th>\n",
       "      <td>883</td>\n",
       "      <td>Психолингвистика (Psycholinguistics)</td>\n",
       "      <td>Saint Petersburg State University</td>\n",
       "      <td>COURSE</td>\n",
       "      <td>4.8</td>\n",
       "      <td>Mixed</td>\n",
       "      <td>21k</td>\n",
       "    </tr>\n",
       "    <tr>\n",
       "      <th>888</th>\n",
       "      <td>545</td>\n",
       "      <td>Разработка интерфейсов: вёрстка и JavaScript</td>\n",
       "      <td>E-Learning Development Fund</td>\n",
       "      <td>SPECIALIZATION</td>\n",
       "      <td>4.5</td>\n",
       "      <td>Intermediate</td>\n",
       "      <td>30k</td>\n",
       "    </tr>\n",
       "    <tr>\n",
       "      <th>889</th>\n",
       "      <td>875</td>\n",
       "      <td>Русский как иностранный</td>\n",
       "      <td>Saint Petersburg State University</td>\n",
       "      <td>SPECIALIZATION</td>\n",
       "      <td>4.6</td>\n",
       "      <td>Intermediate</td>\n",
       "      <td>9.8k</td>\n",
       "    </tr>\n",
       "    <tr>\n",
       "      <th>890</th>\n",
       "      <td>163</td>\n",
       "      <td>Финансовые инструменты для частного инвестора</td>\n",
       "      <td>National Research University Higher School of ...</td>\n",
       "      <td>SPECIALIZATION</td>\n",
       "      <td>4.7</td>\n",
       "      <td>Beginner</td>\n",
       "      <td>38k</td>\n",
       "    </tr>\n",
       "  </tbody>\n",
       "</table>\n",
       "<p>891 rows × 7 columns</p>\n",
       "</div>"
      ],
      "text/plain": [
       "     Unnamed: 0                                       course_title  \\\n",
       "0           134  (ISC)² Systems Security Certified Practitioner...   \n",
       "1           743  A Crash Course in Causality:  Inferring Causal...   \n",
       "2           874                     A Crash Course in Data Science   \n",
       "3           413                            A Law Student's Toolkit   \n",
       "4           635                A Life of Happiness and Fulfillment   \n",
       "..          ...                                                ...   \n",
       "886         236                         Программирование на Python   \n",
       "887         883               Психолингвистика (Psycholinguistics)   \n",
       "888         545       Разработка интерфейсов: вёрстка и JavaScript   \n",
       "889         875                            Русский как иностранный   \n",
       "890         163      Финансовые инструменты для частного инвестора   \n",
       "\n",
       "                                   course_organization  \\\n",
       "0                                               (ISC)²   \n",
       "1                           University of Pennsylvania   \n",
       "2                             Johns Hopkins University   \n",
       "3                                      Yale University   \n",
       "4                            Indian School of Business   \n",
       "..                                                 ...   \n",
       "886                                      Mail.Ru Group   \n",
       "887                  Saint Petersburg State University   \n",
       "888                        E-Learning Development Fund   \n",
       "889                  Saint Petersburg State University   \n",
       "890  National Research University Higher School of ...   \n",
       "\n",
       "    course_Certificate_type  course_rating course_difficulty  \\\n",
       "0            SPECIALIZATION            4.7          Beginner   \n",
       "1                    COURSE            4.7      Intermediate   \n",
       "2                    COURSE            4.5             Mixed   \n",
       "3                    COURSE            4.7             Mixed   \n",
       "4                    COURSE            4.8             Mixed   \n",
       "..                      ...            ...               ...   \n",
       "886          SPECIALIZATION            4.5      Intermediate   \n",
       "887                  COURSE            4.8             Mixed   \n",
       "888          SPECIALIZATION            4.5      Intermediate   \n",
       "889          SPECIALIZATION            4.6      Intermediate   \n",
       "890          SPECIALIZATION            4.7          Beginner   \n",
       "\n",
       "    course_students_enrolled  \n",
       "0                       5.3k  \n",
       "1                        17k  \n",
       "2                       130k  \n",
       "3                        91k  \n",
       "4                       320k  \n",
       "..                       ...  \n",
       "886                      52k  \n",
       "887                      21k  \n",
       "888                      30k  \n",
       "889                     9.8k  \n",
       "890                      38k  \n",
       "\n",
       "[891 rows x 7 columns]"
      ]
     },
     "execution_count": 14,
     "metadata": {},
     "output_type": "execute_result"
    }
   ],
   "source": [
    "coursera_df"
   ]
  },
  {
   "cell_type": "markdown",
   "metadata": {},
   "source": [
    "#### Dataset Summery:\n",
    "- course_title:\n",
    "The title or name of the course offered on the platform.\n",
    "\n",
    "- course_organization:\n",
    "The organization or institution that offers the course.\n",
    "\n",
    "- course_Certificate_type:\n",
    "The type of certificate or credential that students receive upon completing the course. It could be a specialization, course, or other types of offerings.\n",
    "\n",
    "- course_rating:\n",
    "The rating of the course as provided by students who have taken the course on a scale from 1 to 5.\n",
    "\n",
    "- course_difficulty:\n",
    "The difficulty level of the course, categorized as beginner, intermediate, or advanced.\n",
    "\n",
    "- course_students_enrolled:\n",
    "The number of students who have enrolled in the course.\n",
    "\n",
    "The dataset has 891 rows and 7 unique columns."
   ]
  },
  {
   "cell_type": "markdown",
   "metadata": {},
   "source": [
    "### 3.2 Let's Check for null values in the dataset:"
   ]
  },
  {
   "cell_type": "code",
   "execution_count": 15,
   "metadata": {},
   "outputs": [
    {
     "data": {
      "text/plain": [
       "Unnamed: 0                  False\n",
       "course_title                False\n",
       "course_organization         False\n",
       "course_Certificate_type     False\n",
       "course_rating               False\n",
       "course_difficulty           False\n",
       "course_students_enrolled    False\n",
       "dtype: bool"
      ]
     },
     "execution_count": 15,
     "metadata": {},
     "output_type": "execute_result"
    }
   ],
   "source": [
    "coursera_df.isnull().any()"
   ]
  },
  {
   "cell_type": "markdown",
   "metadata": {},
   "source": [
    "Thankfully, none of the columns have any null values."
   ]
  },
  {
   "cell_type": "markdown",
   "metadata": {},
   "source": [
    "### 3.3 Dropping the unnamed column:"
   ]
  },
  {
   "cell_type": "code",
   "execution_count": 16,
   "metadata": {},
   "outputs": [],
   "source": [
    "coursera_df.drop('Unnamed: 0', axis= 1, inplace= True)"
   ]
  },
  {
   "cell_type": "code",
   "execution_count": 17,
   "metadata": {},
   "outputs": [
    {
     "data": {
      "text/html": [
       "<div>\n",
       "<style scoped>\n",
       "    .dataframe tbody tr th:only-of-type {\n",
       "        vertical-align: middle;\n",
       "    }\n",
       "\n",
       "    .dataframe tbody tr th {\n",
       "        vertical-align: top;\n",
       "    }\n",
       "\n",
       "    .dataframe thead th {\n",
       "        text-align: right;\n",
       "    }\n",
       "</style>\n",
       "<table border=\"1\" class=\"dataframe\">\n",
       "  <thead>\n",
       "    <tr style=\"text-align: right;\">\n",
       "      <th></th>\n",
       "      <th>course_title</th>\n",
       "      <th>course_organization</th>\n",
       "      <th>course_Certificate_type</th>\n",
       "      <th>course_rating</th>\n",
       "      <th>course_difficulty</th>\n",
       "      <th>course_students_enrolled</th>\n",
       "    </tr>\n",
       "  </thead>\n",
       "  <tbody>\n",
       "    <tr>\n",
       "      <th>0</th>\n",
       "      <td>(ISC)² Systems Security Certified Practitioner...</td>\n",
       "      <td>(ISC)²</td>\n",
       "      <td>SPECIALIZATION</td>\n",
       "      <td>4.7</td>\n",
       "      <td>Beginner</td>\n",
       "      <td>5.3k</td>\n",
       "    </tr>\n",
       "    <tr>\n",
       "      <th>1</th>\n",
       "      <td>A Crash Course in Causality:  Inferring Causal...</td>\n",
       "      <td>University of Pennsylvania</td>\n",
       "      <td>COURSE</td>\n",
       "      <td>4.7</td>\n",
       "      <td>Intermediate</td>\n",
       "      <td>17k</td>\n",
       "    </tr>\n",
       "    <tr>\n",
       "      <th>2</th>\n",
       "      <td>A Crash Course in Data Science</td>\n",
       "      <td>Johns Hopkins University</td>\n",
       "      <td>COURSE</td>\n",
       "      <td>4.5</td>\n",
       "      <td>Mixed</td>\n",
       "      <td>130k</td>\n",
       "    </tr>\n",
       "    <tr>\n",
       "      <th>3</th>\n",
       "      <td>A Law Student's Toolkit</td>\n",
       "      <td>Yale University</td>\n",
       "      <td>COURSE</td>\n",
       "      <td>4.7</td>\n",
       "      <td>Mixed</td>\n",
       "      <td>91k</td>\n",
       "    </tr>\n",
       "    <tr>\n",
       "      <th>4</th>\n",
       "      <td>A Life of Happiness and Fulfillment</td>\n",
       "      <td>Indian School of Business</td>\n",
       "      <td>COURSE</td>\n",
       "      <td>4.8</td>\n",
       "      <td>Mixed</td>\n",
       "      <td>320k</td>\n",
       "    </tr>\n",
       "    <tr>\n",
       "      <th>...</th>\n",
       "      <td>...</td>\n",
       "      <td>...</td>\n",
       "      <td>...</td>\n",
       "      <td>...</td>\n",
       "      <td>...</td>\n",
       "      <td>...</td>\n",
       "    </tr>\n",
       "    <tr>\n",
       "      <th>886</th>\n",
       "      <td>Программирование на Python</td>\n",
       "      <td>Mail.Ru Group</td>\n",
       "      <td>SPECIALIZATION</td>\n",
       "      <td>4.5</td>\n",
       "      <td>Intermediate</td>\n",
       "      <td>52k</td>\n",
       "    </tr>\n",
       "    <tr>\n",
       "      <th>887</th>\n",
       "      <td>Психолингвистика (Psycholinguistics)</td>\n",
       "      <td>Saint Petersburg State University</td>\n",
       "      <td>COURSE</td>\n",
       "      <td>4.8</td>\n",
       "      <td>Mixed</td>\n",
       "      <td>21k</td>\n",
       "    </tr>\n",
       "    <tr>\n",
       "      <th>888</th>\n",
       "      <td>Разработка интерфейсов: вёрстка и JavaScript</td>\n",
       "      <td>E-Learning Development Fund</td>\n",
       "      <td>SPECIALIZATION</td>\n",
       "      <td>4.5</td>\n",
       "      <td>Intermediate</td>\n",
       "      <td>30k</td>\n",
       "    </tr>\n",
       "    <tr>\n",
       "      <th>889</th>\n",
       "      <td>Русский как иностранный</td>\n",
       "      <td>Saint Petersburg State University</td>\n",
       "      <td>SPECIALIZATION</td>\n",
       "      <td>4.6</td>\n",
       "      <td>Intermediate</td>\n",
       "      <td>9.8k</td>\n",
       "    </tr>\n",
       "    <tr>\n",
       "      <th>890</th>\n",
       "      <td>Финансовые инструменты для частного инвестора</td>\n",
       "      <td>National Research University Higher School of ...</td>\n",
       "      <td>SPECIALIZATION</td>\n",
       "      <td>4.7</td>\n",
       "      <td>Beginner</td>\n",
       "      <td>38k</td>\n",
       "    </tr>\n",
       "  </tbody>\n",
       "</table>\n",
       "<p>891 rows × 6 columns</p>\n",
       "</div>"
      ],
      "text/plain": [
       "                                          course_title  \\\n",
       "0    (ISC)² Systems Security Certified Practitioner...   \n",
       "1    A Crash Course in Causality:  Inferring Causal...   \n",
       "2                       A Crash Course in Data Science   \n",
       "3                              A Law Student's Toolkit   \n",
       "4                  A Life of Happiness and Fulfillment   \n",
       "..                                                 ...   \n",
       "886                         Программирование на Python   \n",
       "887               Психолингвистика (Psycholinguistics)   \n",
       "888       Разработка интерфейсов: вёрстка и JavaScript   \n",
       "889                            Русский как иностранный   \n",
       "890      Финансовые инструменты для частного инвестора   \n",
       "\n",
       "                                   course_organization  \\\n",
       "0                                               (ISC)²   \n",
       "1                           University of Pennsylvania   \n",
       "2                             Johns Hopkins University   \n",
       "3                                      Yale University   \n",
       "4                            Indian School of Business   \n",
       "..                                                 ...   \n",
       "886                                      Mail.Ru Group   \n",
       "887                  Saint Petersburg State University   \n",
       "888                        E-Learning Development Fund   \n",
       "889                  Saint Petersburg State University   \n",
       "890  National Research University Higher School of ...   \n",
       "\n",
       "    course_Certificate_type  course_rating course_difficulty  \\\n",
       "0            SPECIALIZATION            4.7          Beginner   \n",
       "1                    COURSE            4.7      Intermediate   \n",
       "2                    COURSE            4.5             Mixed   \n",
       "3                    COURSE            4.7             Mixed   \n",
       "4                    COURSE            4.8             Mixed   \n",
       "..                      ...            ...               ...   \n",
       "886          SPECIALIZATION            4.5      Intermediate   \n",
       "887                  COURSE            4.8             Mixed   \n",
       "888          SPECIALIZATION            4.5      Intermediate   \n",
       "889          SPECIALIZATION            4.6      Intermediate   \n",
       "890          SPECIALIZATION            4.7          Beginner   \n",
       "\n",
       "    course_students_enrolled  \n",
       "0                       5.3k  \n",
       "1                        17k  \n",
       "2                       130k  \n",
       "3                        91k  \n",
       "4                       320k  \n",
       "..                       ...  \n",
       "886                      52k  \n",
       "887                      21k  \n",
       "888                      30k  \n",
       "889                     9.8k  \n",
       "890                      38k  \n",
       "\n",
       "[891 rows x 6 columns]"
      ]
     },
     "execution_count": 17,
     "metadata": {},
     "output_type": "execute_result"
    }
   ],
   "source": [
    "coursera_df"
   ]
  },
  {
   "cell_type": "code",
   "execution_count": 18,
   "metadata": {},
   "outputs": [
    {
     "data": {
      "text/plain": [
       "pandas.core.frame.DataFrame"
      ]
     },
     "execution_count": 18,
     "metadata": {},
     "output_type": "execute_result"
    }
   ],
   "source": [
    "type(coursera_df)"
   ]
  },
  {
   "cell_type": "code",
   "execution_count": 19,
   "metadata": {},
   "outputs": [
    {
     "data": {
      "text/plain": [
       "Index(['course_title', 'course_organization', 'course_Certificate_type',\n",
       "       'course_rating', 'course_difficulty', 'course_students_enrolled'],\n",
       "      dtype='object')"
      ]
     },
     "execution_count": 19,
     "metadata": {},
     "output_type": "execute_result"
    }
   ],
   "source": [
    "coursera_df.columns"
   ]
  },
  {
   "cell_type": "markdown",
   "metadata": {},
   "source": [
    "### 3.4 Converting object column type to numeric:\n",
    "\n",
    "As one of the column with numeric values is typed as object, we need to convert it to numeric for better calculation purpose ."
   ]
  },
  {
   "cell_type": "code",
   "execution_count": 20,
   "metadata": {},
   "outputs": [
    {
     "name": "stdout",
     "output_type": "stream",
     "text": [
      "                                        course_title  \\\n",
      "0  (ISC)² Systems Security Certified Practitioner...   \n",
      "1  A Crash Course in Causality:  Inferring Causal...   \n",
      "2                     A Crash Course in Data Science   \n",
      "3                            A Law Student's Toolkit   \n",
      "4                A Life of Happiness and Fulfillment   \n",
      "5  ADHD: Everyday Strategies for Elementary Students   \n",
      "6                                    AI For Everyone   \n",
      "7                           AI For Medical Treatment   \n",
      "8                        AI Foundations for Everyone   \n",
      "9                           AI for Medical Diagnosis   \n",
      "\n",
      "          course_organization course_Certificate_type  course_rating  \\\n",
      "0                      (ISC)²          SPECIALIZATION            4.7   \n",
      "1  University of Pennsylvania                  COURSE            4.7   \n",
      "2    Johns Hopkins University                  COURSE            4.5   \n",
      "3             Yale University                  COURSE            4.7   \n",
      "4   Indian School of Business                  COURSE            4.8   \n",
      "5       University at Buffalo                  COURSE            4.7   \n",
      "6             deeplearning.ai                  COURSE            4.8   \n",
      "7             deeplearning.ai                  COURSE            4.8   \n",
      "8                         IBM          SPECIALIZATION            4.7   \n",
      "9             deeplearning.ai                  COURSE            4.7   \n",
      "\n",
      "  course_difficulty course_students_enrolled  course_students_enrolled_value  \n",
      "0          Beginner                     5.3k                          5300.0  \n",
      "1      Intermediate                      17k                         17000.0  \n",
      "2             Mixed                     130k                        130000.0  \n",
      "3             Mixed                      91k                         91000.0  \n",
      "4             Mixed                     320k                        320000.0  \n",
      "5          Beginner                      39k                         39000.0  \n",
      "6          Beginner                     350k                        350000.0  \n",
      "7      Intermediate                     2.4k                          2400.0  \n",
      "8          Beginner                      61k                         61000.0  \n",
      "9      Intermediate                      12k                         12000.0  \n"
     ]
    }
   ],
   "source": [
    "def string_to_numeric (v):\n",
    "    \n",
    "    if isinstance (v,float):\n",
    "        return v\n",
    "    elif 'k' in v:\n",
    "        return float (v.replace('k', '')) * 1000\n",
    "    elif 'm' in v:\n",
    "        return float (v.replace('m', '')) * 1000000\n",
    "    else:\n",
    "        return float (v)\n",
    "    \n",
    "coursera_df['course_students_enrolled_value'] = coursera_df['course_students_enrolled'].apply(string_to_numeric)\n",
    "\n",
    "print(coursera_df.head(10))"
   ]
  },
  {
   "cell_type": "code",
   "execution_count": 21,
   "metadata": {},
   "outputs": [
    {
     "data": {
      "text/html": [
       "<div>\n",
       "<style scoped>\n",
       "    .dataframe tbody tr th:only-of-type {\n",
       "        vertical-align: middle;\n",
       "    }\n",
       "\n",
       "    .dataframe tbody tr th {\n",
       "        vertical-align: top;\n",
       "    }\n",
       "\n",
       "    .dataframe thead th {\n",
       "        text-align: right;\n",
       "    }\n",
       "</style>\n",
       "<table border=\"1\" class=\"dataframe\">\n",
       "  <thead>\n",
       "    <tr style=\"text-align: right;\">\n",
       "      <th></th>\n",
       "      <th>course_rating</th>\n",
       "      <th>course_students_enrolled_value</th>\n",
       "    </tr>\n",
       "  </thead>\n",
       "  <tbody>\n",
       "    <tr>\n",
       "      <th>count</th>\n",
       "      <td>891.000000</td>\n",
       "      <td>8.910000e+02</td>\n",
       "    </tr>\n",
       "    <tr>\n",
       "      <th>mean</th>\n",
       "      <td>4.677329</td>\n",
       "      <td>9.055208e+04</td>\n",
       "    </tr>\n",
       "    <tr>\n",
       "      <th>std</th>\n",
       "      <td>0.162225</td>\n",
       "      <td>1.819365e+05</td>\n",
       "    </tr>\n",
       "    <tr>\n",
       "      <th>min</th>\n",
       "      <td>3.300000</td>\n",
       "      <td>1.500000e+03</td>\n",
       "    </tr>\n",
       "    <tr>\n",
       "      <th>25%</th>\n",
       "      <td>4.600000</td>\n",
       "      <td>1.750000e+04</td>\n",
       "    </tr>\n",
       "    <tr>\n",
       "      <th>50%</th>\n",
       "      <td>4.700000</td>\n",
       "      <td>4.200000e+04</td>\n",
       "    </tr>\n",
       "    <tr>\n",
       "      <th>75%</th>\n",
       "      <td>4.800000</td>\n",
       "      <td>9.950000e+04</td>\n",
       "    </tr>\n",
       "    <tr>\n",
       "      <th>max</th>\n",
       "      <td>5.000000</td>\n",
       "      <td>3.200000e+06</td>\n",
       "    </tr>\n",
       "  </tbody>\n",
       "</table>\n",
       "</div>"
      ],
      "text/plain": [
       "       course_rating  course_students_enrolled_value\n",
       "count     891.000000                    8.910000e+02\n",
       "mean        4.677329                    9.055208e+04\n",
       "std         0.162225                    1.819365e+05\n",
       "min         3.300000                    1.500000e+03\n",
       "25%         4.600000                    1.750000e+04\n",
       "50%         4.700000                    4.200000e+04\n",
       "75%         4.800000                    9.950000e+04\n",
       "max         5.000000                    3.200000e+06"
      ]
     },
     "execution_count": 21,
     "metadata": {},
     "output_type": "execute_result"
    }
   ],
   "source": [
    "coursera_df.describe()"
   ]
  },
  {
   "cell_type": "markdown",
   "metadata": {},
   "source": [
    "### 3.5 Now, let's take a final look at the columns and rows of the data set:"
   ]
  },
  {
   "cell_type": "code",
   "execution_count": 22,
   "metadata": {},
   "outputs": [
    {
     "data": {
      "text/plain": [
       "(891, 7)"
      ]
     },
     "execution_count": 22,
     "metadata": {},
     "output_type": "execute_result"
    }
   ],
   "source": [
    "coursera_df.shape"
   ]
  },
  {
   "cell_type": "markdown",
   "metadata": {},
   "source": [
    "### 3.6 Descriptive Analysis:"
   ]
  },
  {
   "cell_type": "code",
   "execution_count": 23,
   "metadata": {},
   "outputs": [
    {
     "data": {
      "text/html": [
       "<div>\n",
       "<style scoped>\n",
       "    .dataframe tbody tr th:only-of-type {\n",
       "        vertical-align: middle;\n",
       "    }\n",
       "\n",
       "    .dataframe tbody tr th {\n",
       "        vertical-align: top;\n",
       "    }\n",
       "\n",
       "    .dataframe thead th {\n",
       "        text-align: right;\n",
       "    }\n",
       "</style>\n",
       "<table border=\"1\" class=\"dataframe\">\n",
       "  <thead>\n",
       "    <tr style=\"text-align: right;\">\n",
       "      <th></th>\n",
       "      <th>count</th>\n",
       "      <th>unique</th>\n",
       "      <th>top</th>\n",
       "      <th>freq</th>\n",
       "    </tr>\n",
       "  </thead>\n",
       "  <tbody>\n",
       "    <tr>\n",
       "      <th>course_title</th>\n",
       "      <td>891</td>\n",
       "      <td>888</td>\n",
       "      <td>Developing Your Musicianship</td>\n",
       "      <td>2</td>\n",
       "    </tr>\n",
       "    <tr>\n",
       "      <th>course_organization</th>\n",
       "      <td>891</td>\n",
       "      <td>154</td>\n",
       "      <td>University of Pennsylvania</td>\n",
       "      <td>59</td>\n",
       "    </tr>\n",
       "    <tr>\n",
       "      <th>course_Certificate_type</th>\n",
       "      <td>891</td>\n",
       "      <td>3</td>\n",
       "      <td>COURSE</td>\n",
       "      <td>582</td>\n",
       "    </tr>\n",
       "    <tr>\n",
       "      <th>course_difficulty</th>\n",
       "      <td>891</td>\n",
       "      <td>4</td>\n",
       "      <td>Beginner</td>\n",
       "      <td>487</td>\n",
       "    </tr>\n",
       "    <tr>\n",
       "      <th>course_students_enrolled</th>\n",
       "      <td>891</td>\n",
       "      <td>205</td>\n",
       "      <td>120k</td>\n",
       "      <td>22</td>\n",
       "    </tr>\n",
       "  </tbody>\n",
       "</table>\n",
       "</div>"
      ],
      "text/plain": [
       "                         count unique                           top freq\n",
       "course_title               891    888  Developing Your Musicianship    2\n",
       "course_organization        891    154    University of Pennsylvania   59\n",
       "course_Certificate_type    891      3                        COURSE  582\n",
       "course_difficulty          891      4                      Beginner  487\n",
       "course_students_enrolled   891    205                          120k   22"
      ]
     },
     "execution_count": 23,
     "metadata": {},
     "output_type": "execute_result"
    }
   ],
   "source": [
    "coursera_df.describe(include=['object']).T"
   ]
  },
  {
   "cell_type": "markdown",
   "metadata": {},
   "source": [
    "#### Insights:\n",
    "-    Among the 891 courses, 888 courses have unique titles. \n",
    "-    There are in total 154 organisations providing the courses. With the University of Pennsylvania being the top providing total of 59 courses.\n",
    "-    In the data set, there are 22 courses which has a common enrollment value of 120k."
   ]
  },
  {
   "cell_type": "code",
   "execution_count": 24,
   "metadata": {},
   "outputs": [
    {
     "data": {
      "application/javascript": [
       "window.require && require([\"base/js/namespace\"],function(Jupyter){Jupyter.notebook.save_checkpoint()})"
      ],
      "text/plain": [
       "<IPython.core.display.Javascript object>"
      ]
     },
     "metadata": {},
     "output_type": "display_data"
    },
    {
     "name": "stdout",
     "output_type": "stream",
     "text": [
      "[jovian] Updating notebook \"anamikaofficial96/coursera-data-analysis\" on https://jovian.com\u001b[0m\n",
      "[jovian] Committed successfully! https://jovian.com/anamikaofficial96/coursera-data-analysis\u001b[0m\n"
     ]
    },
    {
     "data": {
      "text/plain": [
       "'https://jovian.com/anamikaofficial96/coursera-data-analysis'"
      ]
     },
     "execution_count": 24,
     "metadata": {},
     "output_type": "execute_result"
    }
   ],
   "source": [
    "jovian.commit(project='COURSERA DATA ANALYSIS')"
   ]
  },
  {
   "cell_type": "markdown",
   "metadata": {},
   "source": [
    "# 4.0 Exploratory Analysis and Visualization\n",
    "\n",
    "First, we will begin our analysis on the entire dataset and check for each columns values and their relationship with other columns."
   ]
  },
  {
   "cell_type": "code",
   "execution_count": 25,
   "metadata": {},
   "outputs": [],
   "source": [
    "sns.set_style('darkgrid')\n",
    "matplotlib.rcParams['font.size']= 14\n",
    "matplotlib.rcParams['figure.figsize']= (12,6)\n",
    "matplotlib.rcParams['figure.facecolor']= '#00000000'"
   ]
  },
  {
   "cell_type": "markdown",
   "metadata": {},
   "source": [
    "### 4.1 Course Rating Distribution:"
   ]
  },
  {
   "cell_type": "code",
   "execution_count": 26,
   "metadata": {},
   "outputs": [
    {
     "data": {
      "image/png": "[encoded data removed]",
      "text/plain": [
       "<Figure size 864x432 with 1 Axes>"
      ]
     },
     "metadata": {
      "needs_background": "light"
     },
     "output_type": "display_data"
    }
   ],
   "source": [
    "plt.title(\"Course Rating Distribution\")\n",
    "plt.hist(coursera_df.course_rating, bins= 20, color= 'thistle');"
   ]
  },
  {
   "cell_type": "code",
   "execution_count": 27,
   "metadata": {},
   "outputs": [
    {
     "data": {
      "text/plain": [
       "4.677328843995511"
      ]
     },
     "execution_count": 27,
     "metadata": {},
     "output_type": "execute_result"
    }
   ],
   "source": [
    "coursera_df['course_rating'].mean()"
   ]
  },
  {
   "cell_type": "code",
   "execution_count": 28,
   "metadata": {},
   "outputs": [
    {
     "data": {
      "text/plain": [
       "4.7"
      ]
     },
     "execution_count": 28,
     "metadata": {},
     "output_type": "execute_result"
    }
   ],
   "source": [
    "coursera_df['course_rating'].median()"
   ]
  },
  {
   "cell_type": "markdown",
   "metadata": {},
   "source": [
    "#### Insights:\n",
    "- The histogram of course rating distribution is slightly skewed to the left that means that the mean value i.e. 4.677 is less than the median value i.e. 4.7.\n",
    "- Most of the ratings are ranging from 4.6 - 4.8. With 4.75 being the highest.\n"
   ]
  },
  {
   "cell_type": "markdown",
   "metadata": {},
   "source": [
    "### 4.2 Percentage Distribution of Course Certificate Type:"
   ]
  },
  {
   "cell_type": "code",
   "execution_count": 29,
   "metadata": {},
   "outputs": [
    {
     "data": {
      "image/png": "[encoded data removed]",
      "text/plain": [
       "<Figure size 864x432 with 1 Axes>"
      ]
     },
     "metadata": {},
     "output_type": "display_data"
    }
   ],
   "source": [
    "certificate_type= coursera_df['course_Certificate_type'].value_counts()\n",
    "plt.figure(figsize=(12,6))\n",
    "plt.title(\"Certificate Type Percentage Distribution\")\n",
    "colors = ['#ff9999','#66b3ff','#99ff99']\n",
    "plt.pie(certificate_type, labels= certificate_type.index, autopct= '%1.1f%%', startangle= 180, colors= colors);"
   ]
  },
  {
   "cell_type": "markdown",
   "metadata": {},
   "source": [
    "#### Insights:\n",
    "- The 'COURSE' type with 65.3% (582) of total certificates, counts the the highest number of certificate in all the 3 type of certificates.\n",
    "- 296 courses are providing 'SPECIALIZATION' certificate.\n",
    "- And only 13 of the courses has 'PROFESSIONAL CERTIFICATE'."
   ]
  },
  {
   "cell_type": "markdown",
   "metadata": {},
   "source": [
    "### 4.3 Course Difficulty Level Distribution:"
   ]
  },
  {
   "cell_type": "code",
   "execution_count": 30,
   "metadata": {},
   "outputs": [
    {
     "data": {
      "image/png": "[encoded data removed]",
      "text/plain": [
       "<Figure size 864x432 with 1 Axes>"
      ]
     },
     "metadata": {
      "needs_background": "light"
     },
     "output_type": "display_data"
    }
   ],
   "source": [
    "ax= (coursera_df['course_difficulty'].value_counts()).plot(kind='bar', color= 'orange', rot= 75)\n",
    "total_values = len(coursera_df['course_difficulty'])\n",
    "\n",
    "for p in ax.patches:\n",
    "    percentage = '{:.1f}%'.format(100 * p.get_height() / total_values)\n",
    "    x = p.get_x() + p.get_width() / 2\n",
    "    y = p.get_height()\n",
    "    ax.annotate(percentage, (x, y), ha='center', va='bottom')\n",
    "    \n",
    "plt.xlabel('Difficulty Level')\n",
    "plt.ylabel('Values')\n",
    "plt.title(' Course Difficulty Level Distribution')\n",
    "\n",
    "plt.show()"
   ]
  },
  {
   "cell_type": "markdown",
   "metadata": {},
   "source": [
    "#### Insights:\n",
    "- Out of all the total courses more than 50% of them can be considered as \"Beginners Friendly\".\n",
    "- 'Intermediate' and 'Mixed' level counts almost the same amount of courses with a differentiation of 1%.\n",
    "- Only 19 courses has an 'Advanced' level of difficulty."
   ]
  },
  {
   "cell_type": "markdown",
   "metadata": {},
   "source": [
    "### 4.4 Difficulty Level Distribution Based on Certificate Type:"
   ]
  },
  {
   "cell_type": "code",
   "execution_count": 31,
   "metadata": {},
   "outputs": [
    {
     "data": {
      "text/plain": [
       "<Figure size 720x360 with 0 Axes>"
      ]
     },
     "metadata": {},
     "output_type": "display_data"
    },
    {
     "data": {
      "image/png": "[encoded data removed]",
      "text/plain": [
       "<Figure size 864x432 with 1 Axes>"
      ]
     },
     "metadata": {
      "needs_background": "light"
     },
     "output_type": "display_data"
    }
   ],
   "source": [
    "grouped_data = coursera_df.groupby(['course_Certificate_type', 'course_difficulty']).size().unstack()\n",
    "\n",
    "# Plotting the stacked bar chart\n",
    "plt.figure(figsize=(10, 5))\n",
    "ax= grouped_data.plot(kind='bar', stacked=False, colormap=\"rainbow\")\n",
    "plt.title('Difficulty Level Distribution (Certificate Type)')\n",
    "plt.ylabel('Values')\n",
    "plt.xticks(rotation=0)\n",
    "plt.legend(title='Difficulty', bbox_to_anchor=(1.0, 1.0))\n",
    "\n",
    "for p in ax.patches:\n",
    "    width, height = p.get_width(), p.get_height()\n",
    "    x, y = p.get_xy()\n",
    "    ax.annotate(f'{height}', (x + width/2, y + height), ha='center', va='bottom')\n",
    "\n",
    "plt.tight_layout()\n",
    "plt.show()"
   ]
  },
  {
   "cell_type": "markdown",
   "metadata": {},
   "source": [
    "#### Insights:\n",
    "- 'COURSE' certificate type has the highest number of beginner friendly, Mixed and Intermediate level courses.\n",
    "- Followed by 'SPECIALIZATION' and \"PROFESSIONAL CERTIFICATE\"."
   ]
  },
  {
   "cell_type": "markdown",
   "metadata": {},
   "source": [
    "### 4.5 Enrollment Size Distribution Based on Difficulty Level:\n",
    "\n",
    "Before performing the below above operation, we need to first convert the \"course_students_enrolled\" column which is an object type to numeric value for easy calculations."
   ]
  },
  {
   "cell_type": "code",
   "execution_count": 32,
   "metadata": {},
   "outputs": [
    {
     "data": {
      "text/plain": [
       "47      20000.0\n",
       "881     77000.0\n",
       "449    150000.0\n",
       "475     53000.0\n",
       "775      9400.0\n",
       "237     21000.0\n",
       "176     26000.0\n",
       "289     11000.0\n",
       "422     62000.0\n",
       "322    400000.0\n",
       "Name: course_students_enrolled_value, dtype: float64"
      ]
     },
     "execution_count": 32,
     "metadata": {},
     "output_type": "execute_result"
    }
   ],
   "source": [
    "coursera_df['course_students_enrolled_value'].sample(10)"
   ]
  },
  {
   "cell_type": "code",
   "execution_count": 33,
   "metadata": {
    "scrolled": false
   },
   "outputs": [
    {
     "data": {
      "text/html": [
       "<div>\n",
       "<style scoped>\n",
       "    .dataframe tbody tr th:only-of-type {\n",
       "        vertical-align: middle;\n",
       "    }\n",
       "\n",
       "    .dataframe tbody tr th {\n",
       "        vertical-align: top;\n",
       "    }\n",
       "\n",
       "    .dataframe thead th {\n",
       "        text-align: right;\n",
       "    }\n",
       "</style>\n",
       "<table border=\"1\" class=\"dataframe\">\n",
       "  <thead>\n",
       "    <tr style=\"text-align: right;\">\n",
       "      <th></th>\n",
       "      <th>course_title</th>\n",
       "      <th>course_organization</th>\n",
       "      <th>course_Certificate_type</th>\n",
       "      <th>course_rating</th>\n",
       "      <th>course_difficulty</th>\n",
       "      <th>course_students_enrolled</th>\n",
       "      <th>course_students_enrolled_value</th>\n",
       "    </tr>\n",
       "  </thead>\n",
       "  <tbody>\n",
       "    <tr>\n",
       "      <th>0</th>\n",
       "      <td>(ISC)² Systems Security Certified Practitioner...</td>\n",
       "      <td>(ISC)²</td>\n",
       "      <td>SPECIALIZATION</td>\n",
       "      <td>4.7</td>\n",
       "      <td>Beginner</td>\n",
       "      <td>5.3k</td>\n",
       "      <td>5300.0</td>\n",
       "    </tr>\n",
       "    <tr>\n",
       "      <th>1</th>\n",
       "      <td>A Crash Course in Causality:  Inferring Causal...</td>\n",
       "      <td>University of Pennsylvania</td>\n",
       "      <td>COURSE</td>\n",
       "      <td>4.7</td>\n",
       "      <td>Intermediate</td>\n",
       "      <td>17k</td>\n",
       "      <td>17000.0</td>\n",
       "    </tr>\n",
       "    <tr>\n",
       "      <th>2</th>\n",
       "      <td>A Crash Course in Data Science</td>\n",
       "      <td>Johns Hopkins University</td>\n",
       "      <td>COURSE</td>\n",
       "      <td>4.5</td>\n",
       "      <td>Mixed</td>\n",
       "      <td>130k</td>\n",
       "      <td>130000.0</td>\n",
       "    </tr>\n",
       "    <tr>\n",
       "      <th>3</th>\n",
       "      <td>A Law Student's Toolkit</td>\n",
       "      <td>Yale University</td>\n",
       "      <td>COURSE</td>\n",
       "      <td>4.7</td>\n",
       "      <td>Mixed</td>\n",
       "      <td>91k</td>\n",
       "      <td>91000.0</td>\n",
       "    </tr>\n",
       "    <tr>\n",
       "      <th>4</th>\n",
       "      <td>A Life of Happiness and Fulfillment</td>\n",
       "      <td>Indian School of Business</td>\n",
       "      <td>COURSE</td>\n",
       "      <td>4.8</td>\n",
       "      <td>Mixed</td>\n",
       "      <td>320k</td>\n",
       "      <td>320000.0</td>\n",
       "    </tr>\n",
       "    <tr>\n",
       "      <th>...</th>\n",
       "      <td>...</td>\n",
       "      <td>...</td>\n",
       "      <td>...</td>\n",
       "      <td>...</td>\n",
       "      <td>...</td>\n",
       "      <td>...</td>\n",
       "      <td>...</td>\n",
       "    </tr>\n",
       "    <tr>\n",
       "      <th>886</th>\n",
       "      <td>Программирование на Python</td>\n",
       "      <td>Mail.Ru Group</td>\n",
       "      <td>SPECIALIZATION</td>\n",
       "      <td>4.5</td>\n",
       "      <td>Intermediate</td>\n",
       "      <td>52k</td>\n",
       "      <td>52000.0</td>\n",
       "    </tr>\n",
       "    <tr>\n",
       "      <th>887</th>\n",
       "      <td>Психолингвистика (Psycholinguistics)</td>\n",
       "      <td>Saint Petersburg State University</td>\n",
       "      <td>COURSE</td>\n",
       "      <td>4.8</td>\n",
       "      <td>Mixed</td>\n",
       "      <td>21k</td>\n",
       "      <td>21000.0</td>\n",
       "    </tr>\n",
       "    <tr>\n",
       "      <th>888</th>\n",
       "      <td>Разработка интерфейсов: вёрстка и JavaScript</td>\n",
       "      <td>E-Learning Development Fund</td>\n",
       "      <td>SPECIALIZATION</td>\n",
       "      <td>4.5</td>\n",
       "      <td>Intermediate</td>\n",
       "      <td>30k</td>\n",
       "      <td>30000.0</td>\n",
       "    </tr>\n",
       "    <tr>\n",
       "      <th>889</th>\n",
       "      <td>Русский как иностранный</td>\n",
       "      <td>Saint Petersburg State University</td>\n",
       "      <td>SPECIALIZATION</td>\n",
       "      <td>4.6</td>\n",
       "      <td>Intermediate</td>\n",
       "      <td>9.8k</td>\n",
       "      <td>9800.0</td>\n",
       "    </tr>\n",
       "    <tr>\n",
       "      <th>890</th>\n",
       "      <td>Финансовые инструменты для частного инвестора</td>\n",
       "      <td>National Research University Higher School of ...</td>\n",
       "      <td>SPECIALIZATION</td>\n",
       "      <td>4.7</td>\n",
       "      <td>Beginner</td>\n",
       "      <td>38k</td>\n",
       "      <td>38000.0</td>\n",
       "    </tr>\n",
       "  </tbody>\n",
       "</table>\n",
       "<p>891 rows × 7 columns</p>\n",
       "</div>"
      ],
      "text/plain": [
       "                                          course_title  \\\n",
       "0    (ISC)² Systems Security Certified Practitioner...   \n",
       "1    A Crash Course in Causality:  Inferring Causal...   \n",
       "2                       A Crash Course in Data Science   \n",
       "3                              A Law Student's Toolkit   \n",
       "4                  A Life of Happiness and Fulfillment   \n",
       "..                                                 ...   \n",
       "886                         Программирование на Python   \n",
       "887               Психолингвистика (Psycholinguistics)   \n",
       "888       Разработка интерфейсов: вёрстка и JavaScript   \n",
       "889                            Русский как иностранный   \n",
       "890      Финансовые инструменты для частного инвестора   \n",
       "\n",
       "                                   course_organization  \\\n",
       "0                                               (ISC)²   \n",
       "1                           University of Pennsylvania   \n",
       "2                             Johns Hopkins University   \n",
       "3                                      Yale University   \n",
       "4                            Indian School of Business   \n",
       "..                                                 ...   \n",
       "886                                      Mail.Ru Group   \n",
       "887                  Saint Petersburg State University   \n",
       "888                        E-Learning Development Fund   \n",
       "889                  Saint Petersburg State University   \n",
       "890  National Research University Higher School of ...   \n",
       "\n",
       "    course_Certificate_type  course_rating course_difficulty  \\\n",
       "0            SPECIALIZATION            4.7          Beginner   \n",
       "1                    COURSE            4.7      Intermediate   \n",
       "2                    COURSE            4.5             Mixed   \n",
       "3                    COURSE            4.7             Mixed   \n",
       "4                    COURSE            4.8             Mixed   \n",
       "..                      ...            ...               ...   \n",
       "886          SPECIALIZATION            4.5      Intermediate   \n",
       "887                  COURSE            4.8             Mixed   \n",
       "888          SPECIALIZATION            4.5      Intermediate   \n",
       "889          SPECIALIZATION            4.6      Intermediate   \n",
       "890          SPECIALIZATION            4.7          Beginner   \n",
       "\n",
       "    course_students_enrolled  course_students_enrolled_value  \n",
       "0                       5.3k                          5300.0  \n",
       "1                        17k                         17000.0  \n",
       "2                       130k                        130000.0  \n",
       "3                        91k                         91000.0  \n",
       "4                       320k                        320000.0  \n",
       "..                       ...                             ...  \n",
       "886                      52k                         52000.0  \n",
       "887                      21k                         21000.0  \n",
       "888                      30k                         30000.0  \n",
       "889                     9.8k                          9800.0  \n",
       "890                      38k                         38000.0  \n",
       "\n",
       "[891 rows x 7 columns]"
      ]
     },
     "execution_count": 33,
     "metadata": {},
     "output_type": "execute_result"
    }
   ],
   "source": [
    "coursera_df"
   ]
  },
  {
   "cell_type": "code",
   "execution_count": 34,
   "metadata": {},
   "outputs": [
    {
     "data": {
      "text/plain": [
       "dtype('float64')"
      ]
     },
     "execution_count": 34,
     "metadata": {},
     "output_type": "execute_result"
    }
   ],
   "source": [
    "coursera_df['course_students_enrolled_value'].dtype"
   ]
  },
  {
   "cell_type": "code",
   "execution_count": 35,
   "metadata": {},
   "outputs": [],
   "source": [
    "coursera_df['course_students_enrolled_value'] = pd.to_numeric(coursera_df['course_students_enrolled_value'], errors='coerce')\n",
    "coursera_df= coursera_df.dropna(subset=['course_students_enrolled_value'])"
   ]
  },
  {
   "cell_type": "code",
   "execution_count": 36,
   "metadata": {},
   "outputs": [],
   "source": [
    "bins = [0, 5000, 10000, 50000, 100000, 500000, 1000000, float('inf')]\n",
    "labels= ['0-5k', '5k-10k', '10k-50k', '50k-100k', '100k-500k', '500k-1m', '1m+']\n",
    "coursera_df['enrollment_bins']= pd.cut(coursera_df['course_students_enrolled_value'], bins=bins, labels=labels)"
   ]
  },
  {
   "cell_type": "code",
   "execution_count": 37,
   "metadata": {},
   "outputs": [
    {
     "data": {
      "text/plain": [
       "<Figure size 720x360 with 0 Axes>"
      ]
     },
     "metadata": {},
     "output_type": "display_data"
    },
    {
     "data": {
      "image/png": "[encoded data removed]",
      "text/plain": [
       "<Figure size 864x432 with 1 Axes>"
      ]
     },
     "metadata": {
      "needs_background": "light"
     },
     "output_type": "display_data"
    }
   ],
   "source": [
    "grouped_data = coursera_df.groupby(['enrollment_bins', 'course_difficulty']).size().unstack()\n",
    "\n",
    "# Plotting the stacked bar chart\n",
    "plt.figure(figsize=(10, 5))\n",
    "ax= grouped_data.plot(kind='line', stacked=False, colormap=\"rainbow\")\n",
    "plt.title('Course Enrollment Distribution Based on Difficulty Level')\n",
    "plt.xlabel('Enrollment Count')\n",
    "plt.xticks(rotation=0)\n",
    "plt.legend(title='Difficulty', bbox_to_anchor=(1.0, 1.0))\n",
    "plt.tight_layout()\n",
    "plt.show()"
   ]
  },
  {
   "cell_type": "code",
   "execution_count": 38,
   "metadata": {},
   "outputs": [
    {
     "data": {
      "image/png": "[encoded data removed]",
      "text/plain": [
       "<Figure size 720x360 with 2 Axes>"
      ]
     },
     "metadata": {
      "needs_background": "light"
     },
     "output_type": "display_data"
    }
   ],
   "source": [
    "grouped_data = coursera_df.groupby(['enrollment_bins', 'course_difficulty']).size().unstack()\n",
    "plt.figure(figsize=(10,5))\n",
    "sns.heatmap(grouped_data, annot= True, cmap= \"rainbow\", fmt= '.2f')\n",
    "plt.title('Heatmap')\n",
    "plt.ylabel('Enrollment Count')\n",
    "plt.xlabel('Certificate')\n",
    "plt.show()"
   ]
  },
  {
   "cell_type": "markdown",
   "metadata": {},
   "source": [
    "#### Insights:\n",
    "- Based on the above line graph and heatmap analysis, it looks like the more than 50% of students have opted to enroll for beginners friendly courses followed by intermediate and mixed type.\n",
    "- Very few students have gone for advanced level courses."
   ]
  },
  {
   "cell_type": "markdown",
   "metadata": {},
   "source": [
    "### 4.6 Enrollment Size Distribution Based on Certificate Type:"
   ]
  },
  {
   "cell_type": "code",
   "execution_count": 39,
   "metadata": {},
   "outputs": [
    {
     "data": {
      "text/plain": [
       "<Figure size 7200x1440 with 0 Axes>"
      ]
     },
     "metadata": {},
     "output_type": "display_data"
    },
    {
     "data": {
      "image/png": "[encoded data removed]",
      "text/plain": [
       "<Figure size 864x432 with 1 Axes>"
      ]
     },
     "metadata": {
      "needs_background": "light"
     },
     "output_type": "display_data"
    }
   ],
   "source": [
    "grouped_data = coursera_df.groupby(['enrollment_bins', 'course_Certificate_type']).size().unstack()\n",
    "\n",
    "# Plotting the stacked bar chart\n",
    "plt.figure(figsize=(100, 20))\n",
    "ax= grouped_data.plot(kind='bar', stacked=True, colormap=\"rainbow\", subplots=False)\n",
    "plt.xlabel('course_Certificate_type')\n",
    "plt.ylabel('Count')\n",
    "plt.xticks(rotation=0)\n",
    "plt.title('Enrollment Size Distribution Based on Certificate Type')\n",
    "\n",
    "for p in ax.patches:\n",
    "    width, height = p.get_width(), p.get_height()\n",
    "    x, y = p.get_xy()\n",
    "    ax.annotate(f'{height}', (x + width/2, y + height), ha= 'right', va='bottom')\n",
    "\n",
    "\n",
    "plt.show()"
   ]
  },
  {
   "cell_type": "markdown",
   "metadata": {},
   "source": [
    "#### Insights:\n",
    "- 'COURSE' certificate type is the most sought after certificate type among the students with the enrollment count ranging from 10k to 500k.\n",
    "- 'SPECIALIZATION' is the second most favourite certification among the students. "
   ]
  },
  {
   "cell_type": "code",
   "execution_count": 40,
   "metadata": {},
   "outputs": [
    {
     "data": {
      "application/javascript": [
       "window.require && require([\"base/js/namespace\"],function(Jupyter){Jupyter.notebook.save_checkpoint()})"
      ],
      "text/plain": [
       "<IPython.core.display.Javascript object>"
      ]
     },
     "metadata": {},
     "output_type": "display_data"
    },
    {
     "name": "stdout",
     "output_type": "stream",
     "text": [
      "[jovian] Updating notebook \"anamikaofficial96/coursera-data-analysis\" on https://jovian.com\u001b[0m\n",
      "[jovian] Committed successfully! https://jovian.com/anamikaofficial96/coursera-data-analysis\u001b[0m\n"
     ]
    },
    {
     "data": {
      "text/plain": [
       "'https://jovian.com/anamikaofficial96/coursera-data-analysis'"
      ]
     },
     "execution_count": 40,
     "metadata": {},
     "output_type": "execute_result"
    }
   ],
   "source": [
    "jovian.commit(project='COURSERA DATA ANALYSIS')"
   ]
  },
  {
   "cell_type": "markdown",
   "metadata": {},
   "source": [
    "# 5.0 Asking and Answering Questions:"
   ]
  },
  {
   "cell_type": "markdown",
   "metadata": {},
   "source": [
    "### 5.1 What are the top 5 organizations with most of the courses?"
   ]
  },
  {
   "cell_type": "code",
   "execution_count": 41,
   "metadata": {},
   "outputs": [
    {
     "data": {
      "text/html": [
       "<div>\n",
       "<style scoped>\n",
       "    .dataframe tbody tr th:only-of-type {\n",
       "        vertical-align: middle;\n",
       "    }\n",
       "\n",
       "    .dataframe tbody tr th {\n",
       "        vertical-align: top;\n",
       "    }\n",
       "\n",
       "    .dataframe thead th {\n",
       "        text-align: right;\n",
       "    }\n",
       "</style>\n",
       "<table border=\"1\" class=\"dataframe\">\n",
       "  <thead>\n",
       "    <tr style=\"text-align: right;\">\n",
       "      <th></th>\n",
       "      <th>course_title</th>\n",
       "      <th>course_organization</th>\n",
       "      <th>course_Certificate_type</th>\n",
       "      <th>course_rating</th>\n",
       "      <th>course_difficulty</th>\n",
       "      <th>course_students_enrolled</th>\n",
       "      <th>course_students_enrolled_value</th>\n",
       "      <th>enrollment_bins</th>\n",
       "    </tr>\n",
       "  </thead>\n",
       "  <tbody>\n",
       "    <tr>\n",
       "      <th>0</th>\n",
       "      <td>(ISC)² Systems Security Certified Practitioner...</td>\n",
       "      <td>(ISC)²</td>\n",
       "      <td>SPECIALIZATION</td>\n",
       "      <td>4.7</td>\n",
       "      <td>Beginner</td>\n",
       "      <td>5.3k</td>\n",
       "      <td>5300.0</td>\n",
       "      <td>5k-10k</td>\n",
       "    </tr>\n",
       "    <tr>\n",
       "      <th>423</th>\n",
       "      <td>Identifying, Monitoring, and Analyzing Risk an...</td>\n",
       "      <td>(ISC)²</td>\n",
       "      <td>COURSE</td>\n",
       "      <td>4.9</td>\n",
       "      <td>Beginner</td>\n",
       "      <td>1.7k</td>\n",
       "      <td>1700.0</td>\n",
       "      <td>0-5k</td>\n",
       "    </tr>\n",
       "    <tr>\n",
       "      <th>20</th>\n",
       "      <td>Access Controls</td>\n",
       "      <td>(ISC)²</td>\n",
       "      <td>COURSE</td>\n",
       "      <td>4.6</td>\n",
       "      <td>Beginner</td>\n",
       "      <td>2.9k</td>\n",
       "      <td>2900.0</td>\n",
       "      <td>0-5k</td>\n",
       "    </tr>\n",
       "    <tr>\n",
       "      <th>16</th>\n",
       "      <td>AWS Fundamentals: Migrating to the Cloud</td>\n",
       "      <td>Amazon Web Services</td>\n",
       "      <td>COURSE</td>\n",
       "      <td>4.5</td>\n",
       "      <td>Intermediate</td>\n",
       "      <td>13k</td>\n",
       "      <td>13000.0</td>\n",
       "      <td>10k-50k</td>\n",
       "    </tr>\n",
       "    <tr>\n",
       "      <th>12</th>\n",
       "      <td>AWS Fundamentals</td>\n",
       "      <td>Amazon Web Services</td>\n",
       "      <td>SPECIALIZATION</td>\n",
       "      <td>4.6</td>\n",
       "      <td>Beginner</td>\n",
       "      <td>130k</td>\n",
       "      <td>130000.0</td>\n",
       "      <td>100k-500k</td>\n",
       "    </tr>\n",
       "  </tbody>\n",
       "</table>\n",
       "</div>"
      ],
      "text/plain": [
       "                                          course_title  course_organization  \\\n",
       "0    (ISC)² Systems Security Certified Practitioner...               (ISC)²   \n",
       "423  Identifying, Monitoring, and Analyzing Risk an...               (ISC)²   \n",
       "20                                     Access Controls               (ISC)²   \n",
       "16            AWS Fundamentals: Migrating to the Cloud  Amazon Web Services   \n",
       "12                                    AWS Fundamentals  Amazon Web Services   \n",
       "\n",
       "    course_Certificate_type  course_rating course_difficulty  \\\n",
       "0            SPECIALIZATION            4.7          Beginner   \n",
       "423                  COURSE            4.9          Beginner   \n",
       "20                   COURSE            4.6          Beginner   \n",
       "16                   COURSE            4.5      Intermediate   \n",
       "12           SPECIALIZATION            4.6          Beginner   \n",
       "\n",
       "    course_students_enrolled  course_students_enrolled_value enrollment_bins  \n",
       "0                       5.3k                          5300.0          5k-10k  \n",
       "423                     1.7k                          1700.0            0-5k  \n",
       "20                      2.9k                          2900.0            0-5k  \n",
       "16                       13k                         13000.0         10k-50k  \n",
       "12                      130k                        130000.0       100k-500k  "
      ]
     },
     "execution_count": 41,
     "metadata": {},
     "output_type": "execute_result"
    }
   ],
   "source": [
    "top_5_org = coursera_df.sort_values(by= 'course_organization', ascending = True).head(5)\n",
    "top_5_org"
   ]
  },
  {
   "cell_type": "code",
   "execution_count": 42,
   "metadata": {},
   "outputs": [
    {
     "data": {
      "image/png": "[encoded data removed]",
      "text/plain": [
       "<Figure size 864x432 with 1 Axes>"
      ]
     },
     "metadata": {
      "needs_background": "light"
     },
     "output_type": "display_data"
    }
   ],
   "source": [
    "%matplotlib inline\n",
    "plt.figure(figsize=(12,6))\n",
    "top_5_org= (coursera_df['course_organization'].value_counts()).head(5)\n",
    "ax= top_5_org.plot(kind='bar', color= 'navy', rot= 75)\n",
    "total_values = len(coursera_df['course_organization'])\n",
    "\n",
    "for p in ax.patches:\n",
    "    percentage = '{:.1f}%'.format(100 * p.get_height() / total_values)\n",
    "    x = p.get_x() + p.get_width() / 2\n",
    "    y = p.get_height()\n",
    "    ax.annotate(percentage, (x, y), ha='center', va='bottom')\n",
    "    \n",
    "plt.xlabel('Organisations')\n",
    "plt.ylabel('Values')\n",
    "plt.title('Top 5 Organisations')\n",
    "\n",
    "plt.show()"
   ]
  },
  {
   "cell_type": "markdown",
   "metadata": {},
   "source": [
    "#### Summery:\n",
    "- Among the top 5, University of Pennsylvania is offering 60 courses which is highest followed by Michigan University, Google Cloud, John Hopkins and Duke."
   ]
  },
  {
   "cell_type": "markdown",
   "metadata": {},
   "source": [
    "### 5.2 Which 5 courses are popular among the students?"
   ]
  },
  {
   "cell_type": "code",
   "execution_count": 43,
   "metadata": {},
   "outputs": [
    {
     "data": {
      "text/plain": [
       "<Figure size 2880x720 with 0 Axes>"
      ]
     },
     "metadata": {},
     "output_type": "display_data"
    },
    {
     "data": {
      "image/png": "[encoded data removed]",
      "text/plain": [
       "<Figure size 432x288 with 1 Axes>"
      ]
     },
     "metadata": {
      "needs_background": "light"
     },
     "output_type": "display_data"
    }
   ],
   "source": [
    "plt.figure(figsize=(40,10))\n",
    "top_5_courses= coursera_df.nlargest(5, 'course_students_enrolled_value')\n",
    "ax= top_5_courses.plot(kind='bar', x= 'course_title', y= 'course_students_enrolled_value', stacked= False, cmap='Set2')\n",
    "total_values= len(coursera_df['course_title'])\n",
    "\n",
    "for p in ax.patches:\n",
    "    count = p.get_height()\n",
    "    x = p.get_x() + p.get_width() / 2\n",
    "    y = p.get_height()\n",
    "    ax.annotate(str(count), (x, y), ha='center', va='bottom')\n",
    "    \n",
    "plt.xlabel('Courses')\n",
    "plt.ylabel('Counts')\n",
    "plt.title('Top 5 Popular Courses')\n",
    "plt.xticks(rotation=90)\n",
    "plt.show()"
   ]
  },
  {
   "cell_type": "markdown",
   "metadata": {},
   "source": [
    "#### Summery:\n",
    "- The categories of top 5 popular courses ranges mostly in technical and programming field.\n",
    "- This indicates that people's interests related to programming is changing. And also, the enrollment size shows that anyone, from any background can learn these languages."
   ]
  },
  {
   "cell_type": "markdown",
   "metadata": {},
   "source": [
    "### 5.3 What is the demand for data science related courses?"
   ]
  },
  {
   "cell_type": "code",
   "execution_count": 44,
   "metadata": {},
   "outputs": [
    {
     "data": {
      "text/plain": [
       "0      (ISC)² Systems Security Certified Practitioner...\n",
       "1      A Crash Course in Causality:  Inferring Causal...\n",
       "2                         A Crash Course in Data Science\n",
       "3                                A Law Student's Toolkit\n",
       "4                    A Life of Happiness and Fulfillment\n",
       "                             ...                        \n",
       "886                           Программирование на Python\n",
       "887                 Психолингвистика (Psycholinguistics)\n",
       "888         Разработка интерфейсов: вёрстка и JavaScript\n",
       "889                              Русский как иностранный\n",
       "890        Финансовые инструменты для частного инвестора\n",
       "Name: course_title, Length: 891, dtype: object"
      ]
     },
     "execution_count": 44,
     "metadata": {},
     "output_type": "execute_result"
    }
   ],
   "source": [
    "coursera_df['course_title']"
   ]
  },
  {
   "cell_type": "code",
   "execution_count": 45,
   "metadata": {},
   "outputs": [],
   "source": [
    "data_science_keywords = ['data', 'data science', 'data analysis', 'excel data analysis', 'machine learning', 'data visualization', 'python for data']\n",
    "\n",
    "# Filter data science-related courses\n",
    "data_science_courses = coursera_df[coursera_df['course_title'].str.contains('|'.join(data_science_keywords), case=False)]\n",
    "\n",
    "# Calculate the demand based on enrollment size\n",
    "demand = data_science_courses.groupby('course_title')['course_students_enrolled_value'].sum().sort_values(ascending=False)"
   ]
  },
  {
   "cell_type": "code",
   "execution_count": 46,
   "metadata": {},
   "outputs": [
    {
     "data": {
      "image/png": "[encoded data removed]",
      "text/plain": [
       "<Figure size 864x432 with 1 Axes>"
      ]
     },
     "metadata": {
      "needs_background": "light"
     },
     "output_type": "display_data"
    }
   ],
   "source": [
    "plt.figure(figsize=(12, 6))\n",
    "sns.barplot(x=demand.head(10).index, y=demand.head(10), palette='Set2')\n",
    "plt.xlabel('Courses')\n",
    "plt.ylabel('Total Enrollment (Thousands)')\n",
    "plt.title('Top 10 Data Science-Related Courses by Enrollment')\n",
    "plt.xticks(rotation=90)\n",
    "plt.show()"
   ]
  },
  {
   "cell_type": "markdown",
   "metadata": {
    "heading_collapsed": true
   },
   "source": [
    "#### Summery:\n",
    " As per the enrollment rate, machine learning is the top choice among the students for the courses related to data science followed by data science, R, Python and 6 other courses."
   ]
  },
  {
   "cell_type": "markdown",
   "metadata": {},
   "source": [
    "### 5.4 Which courses are rated as the most difficult one?"
   ]
  },
  {
   "cell_type": "code",
   "execution_count": 47,
   "metadata": {
    "scrolled": true
   },
   "outputs": [
    {
     "data": {
      "text/html": [
       "<div>\n",
       "<style scoped>\n",
       "    .dataframe tbody tr th:only-of-type {\n",
       "        vertical-align: middle;\n",
       "    }\n",
       "\n",
       "    .dataframe tbody tr th {\n",
       "        vertical-align: top;\n",
       "    }\n",
       "\n",
       "    .dataframe thead th {\n",
       "        text-align: right;\n",
       "    }\n",
       "</style>\n",
       "<table border=\"1\" class=\"dataframe\">\n",
       "  <thead>\n",
       "    <tr style=\"text-align: right;\">\n",
       "      <th></th>\n",
       "      <th>course_title</th>\n",
       "      <th>course_organization</th>\n",
       "      <th>course_Certificate_type</th>\n",
       "      <th>course_rating</th>\n",
       "      <th>course_difficulty</th>\n",
       "      <th>course_students_enrolled</th>\n",
       "      <th>course_students_enrolled_value</th>\n",
       "      <th>enrollment_bins</th>\n",
       "    </tr>\n",
       "  </thead>\n",
       "  <tbody>\n",
       "    <tr>\n",
       "      <th>76</th>\n",
       "      <td>Autodesk Certified Professional: AutoCAD for D...</td>\n",
       "      <td>Autodesk</td>\n",
       "      <td>COURSE</td>\n",
       "      <td>4.7</td>\n",
       "      <td>Advanced</td>\n",
       "      <td>22k</td>\n",
       "      <td>22000.0</td>\n",
       "      <td>10k-50k</td>\n",
       "    </tr>\n",
       "    <tr>\n",
       "      <th>514</th>\n",
       "      <td>Introduction to Self-Driving Cars</td>\n",
       "      <td>University of Toronto</td>\n",
       "      <td>COURSE</td>\n",
       "      <td>4.8</td>\n",
       "      <td>Advanced</td>\n",
       "      <td>39k</td>\n",
       "      <td>39000.0</td>\n",
       "      <td>10k-50k</td>\n",
       "    </tr>\n",
       "    <tr>\n",
       "      <th>669</th>\n",
       "      <td>Probabilistic Graphical Models 1: Representation</td>\n",
       "      <td>Stanford University</td>\n",
       "      <td>COURSE</td>\n",
       "      <td>4.7</td>\n",
       "      <td>Advanced</td>\n",
       "      <td>68k</td>\n",
       "      <td>68000.0</td>\n",
       "      <td>50k-100k</td>\n",
       "    </tr>\n",
       "    <tr>\n",
       "      <th>744</th>\n",
       "      <td>Spacecraft Dynamics and Control</td>\n",
       "      <td>University of Colorado Boulder</td>\n",
       "      <td>SPECIALIZATION</td>\n",
       "      <td>4.8</td>\n",
       "      <td>Advanced</td>\n",
       "      <td>12k</td>\n",
       "      <td>12000.0</td>\n",
       "      <td>10k-50k</td>\n",
       "    </tr>\n",
       "    <tr>\n",
       "      <th>726</th>\n",
       "      <td>Site Reliability Engineering: Measuring and Ma...</td>\n",
       "      <td>Google Cloud</td>\n",
       "      <td>COURSE</td>\n",
       "      <td>4.5</td>\n",
       "      <td>Advanced</td>\n",
       "      <td>16k</td>\n",
       "      <td>16000.0</td>\n",
       "      <td>10k-50k</td>\n",
       "    </tr>\n",
       "  </tbody>\n",
       "</table>\n",
       "</div>"
      ],
      "text/plain": [
       "                                          course_title  \\\n",
       "76   Autodesk Certified Professional: AutoCAD for D...   \n",
       "514                  Introduction to Self-Driving Cars   \n",
       "669   Probabilistic Graphical Models 1: Representation   \n",
       "744                    Spacecraft Dynamics and Control   \n",
       "726  Site Reliability Engineering: Measuring and Ma...   \n",
       "\n",
       "                course_organization course_Certificate_type  course_rating  \\\n",
       "76                         Autodesk                  COURSE            4.7   \n",
       "514           University of Toronto                  COURSE            4.8   \n",
       "669             Stanford University                  COURSE            4.7   \n",
       "744  University of Colorado Boulder          SPECIALIZATION            4.8   \n",
       "726                    Google Cloud                  COURSE            4.5   \n",
       "\n",
       "    course_difficulty course_students_enrolled  \\\n",
       "76           Advanced                      22k   \n",
       "514          Advanced                      39k   \n",
       "669          Advanced                      68k   \n",
       "744          Advanced                      12k   \n",
       "726          Advanced                      16k   \n",
       "\n",
       "     course_students_enrolled_value enrollment_bins  \n",
       "76                          22000.0         10k-50k  \n",
       "514                         39000.0         10k-50k  \n",
       "669                         68000.0        50k-100k  \n",
       "744                         12000.0         10k-50k  \n",
       "726                         16000.0         10k-50k  "
      ]
     },
     "execution_count": 47,
     "metadata": {},
     "output_type": "execute_result"
    }
   ],
   "source": [
    "most_difficult_courses = coursera_df.sort_values(by= 'course_difficulty', ascending = False).tail(5)\n",
    "most_difficult_courses"
   ]
  },
  {
   "cell_type": "code",
   "execution_count": 48,
   "metadata": {
    "scrolled": true
   },
   "outputs": [
    {
     "data": {
      "image/png": "[encoded data removed]",
      "text/plain": [
       "<Figure size 720x360 with 1 Axes>"
      ]
     },
     "metadata": {
      "needs_background": "light"
     },
     "output_type": "display_data"
    }
   ],
   "source": [
    "most_difficult_courses = coursera_df.sort_values(by='course_difficulty', ascending=False).tail(5)\n",
    "\n",
    "plt.figure(figsize=(10, 5))\n",
    "plt.barh(most_difficult_courses['course_title'], most_difficult_courses['course_students_enrolled_value'], color='skyblue')\n",
    "plt.xlabel('Number of Students Enrolled')\n",
    "plt.ylabel('Course Title')\n",
    "plt.title(\"Top 5 Difficult Courses\")\n",
    "plt.tight_layout()\n",
    "\n",
    "plt.show()\n"
   ]
  },
  {
   "cell_type": "markdown",
   "metadata": {},
   "source": [
    "#### Summery:\n",
    "- The bar plot shows that though some of the courses are tagged as 'Advanced' the enrollment values are between 10,000 - 60,000.\n",
    "- This indicates that despite the difficulty, their demand might increase in future."
   ]
  },
  {
   "cell_type": "markdown",
   "metadata": {},
   "source": [
    "### 5.5 How many students, on average, are enrolled in courses from the top three course organizations?"
   ]
  },
  {
   "cell_type": "code",
   "execution_count": 49,
   "metadata": {},
   "outputs": [
    {
     "data": {
      "text/html": [
       "<div>\n",
       "<style scoped>\n",
       "    .dataframe tbody tr th:only-of-type {\n",
       "        vertical-align: middle;\n",
       "    }\n",
       "\n",
       "    .dataframe tbody tr th {\n",
       "        vertical-align: top;\n",
       "    }\n",
       "\n",
       "    .dataframe thead th {\n",
       "        text-align: right;\n",
       "    }\n",
       "</style>\n",
       "<table border=\"1\" class=\"dataframe\">\n",
       "  <thead>\n",
       "    <tr style=\"text-align: right;\">\n",
       "      <th></th>\n",
       "      <th>course_title</th>\n",
       "      <th>course_organization</th>\n",
       "      <th>course_Certificate_type</th>\n",
       "      <th>course_rating</th>\n",
       "      <th>course_difficulty</th>\n",
       "      <th>course_students_enrolled</th>\n",
       "      <th>course_students_enrolled_value</th>\n",
       "      <th>enrollment_bins</th>\n",
       "    </tr>\n",
       "  </thead>\n",
       "  <tbody>\n",
       "    <tr>\n",
       "      <th>445</th>\n",
       "      <td>Instructional Design Foundations and Applications</td>\n",
       "      <td>University of Illinois at Urbana-Champaign</td>\n",
       "      <td>COURSE</td>\n",
       "      <td>4.2</td>\n",
       "      <td>Mixed</td>\n",
       "      <td>12k</td>\n",
       "      <td>12000.0</td>\n",
       "      <td>10k-50k</td>\n",
       "    </tr>\n",
       "    <tr>\n",
       "      <th>715</th>\n",
       "      <td>Scaling Operations: Linking Strategy and Execu...</td>\n",
       "      <td>Northwestern University</td>\n",
       "      <td>COURSE</td>\n",
       "      <td>4.5</td>\n",
       "      <td>Mixed</td>\n",
       "      <td>12k</td>\n",
       "      <td>12000.0</td>\n",
       "      <td>10k-50k</td>\n",
       "    </tr>\n",
       "    <tr>\n",
       "      <th>317</th>\n",
       "      <td>Financing and Investing in Infrastructure</td>\n",
       "      <td>Università Bocconi</td>\n",
       "      <td>COURSE</td>\n",
       "      <td>4.8</td>\n",
       "      <td>Mixed</td>\n",
       "      <td>24k</td>\n",
       "      <td>24000.0</td>\n",
       "      <td>10k-50k</td>\n",
       "    </tr>\n",
       "  </tbody>\n",
       "</table>\n",
       "</div>"
      ],
      "text/plain": [
       "                                          course_title  \\\n",
       "445  Instructional Design Foundations and Applications   \n",
       "715  Scaling Operations: Linking Strategy and Execu...   \n",
       "317          Financing and Investing in Infrastructure   \n",
       "\n",
       "                            course_organization course_Certificate_type  \\\n",
       "445  University of Illinois at Urbana-Champaign                  COURSE   \n",
       "715                     Northwestern University                  COURSE   \n",
       "317                          Università Bocconi                  COURSE   \n",
       "\n",
       "     course_rating course_difficulty course_students_enrolled  \\\n",
       "445            4.2             Mixed                      12k   \n",
       "715            4.5             Mixed                      12k   \n",
       "317            4.8             Mixed                      24k   \n",
       "\n",
       "     course_students_enrolled_value enrollment_bins  \n",
       "445                         12000.0         10k-50k  \n",
       "715                         12000.0         10k-50k  \n",
       "317                         24000.0         10k-50k  "
      ]
     },
     "execution_count": 49,
     "metadata": {},
     "output_type": "execute_result"
    }
   ],
   "source": [
    "top = coursera_df.sort_values(by= 'course_difficulty', ascending = False).head(3)\n",
    "top"
   ]
  },
  {
   "cell_type": "code",
   "execution_count": 50,
   "metadata": {},
   "outputs": [],
   "source": [
    "organization_enrollment = coursera_df.groupby('course_organization')['course_students_enrolled_value'].sum().reset_index()\n",
    "organization_enrollment = organization_enrollment.sort_values(by='course_students_enrolled_value', ascending=False)\n",
    "top_three_organizations = organization_enrollment.head(3)\n",
    "average_enrollment_top_three = top_three_organizations['course_students_enrolled_value'].mean()\n"
   ]
  },
  {
   "cell_type": "code",
   "execution_count": 51,
   "metadata": {},
   "outputs": [
    {
     "name": "stdout",
     "output_type": "stream",
     "text": [
      "Average number of students enrolled in courses from the top three course organizations: 5931000.0\n"
     ]
    }
   ],
   "source": [
    "print(\"Average number of students enrolled in courses from the top three course organizations:\", average_enrollment_top_three)\n"
   ]
  },
  {
   "cell_type": "code",
   "execution_count": 52,
   "metadata": {},
   "outputs": [
    {
     "data": {
      "image/png": "[encoded data removed]",
      "text/plain": [
       "<Figure size 720x432 with 1 Axes>"
      ]
     },
     "metadata": {
      "needs_background": "light"
     },
     "output_type": "display_data"
    }
   ],
   "source": [
    "average_enrollment_top_three = 5931000.0\n",
    "\n",
    "organizations = top_three_organizations['course_organization']\n",
    "enrollment_values = top_three_organizations['course_students_enrolled_value']\n",
    "\n",
    "plt.figure(figsize=(10, 6))\n",
    "plt.boxplot(enrollment_values, vert=False)\n",
    "plt.scatter(average_enrollment_top_three, 1, color= 'r', marker= 'x', label='Average')\n",
    "plt.yticks([1], ['Top 3 Organisations'])\n",
    "plt.xlabel('Total Students Enrolled')\n",
    "plt.title('Average Number of Students Enrolled in Top Three Course Organizations')\n",
    "\n",
    "plt.legend()\n",
    "plt.tight_layout()\n",
    "\n",
    "plt.show()\n",
    "\n"
   ]
  },
  {
   "cell_type": "markdown",
   "metadata": {},
   "source": [
    "#### Summery:\n",
    "- The Boxplot showcases the variability in students enrollment in top 3 courses.\n",
    "- The 'x' marker showcases the average enrollment is high indicating the popularity of these 3 courses.\n",
    "- Courses which falls in the IQR range shows the consistent enrollment distribution."
   ]
  },
  {
   "cell_type": "code",
   "execution_count": 53,
   "metadata": {},
   "outputs": [
    {
     "data": {
      "application/javascript": [
       "window.require && require([\"base/js/namespace\"],function(Jupyter){Jupyter.notebook.save_checkpoint()})"
      ],
      "text/plain": [
       "<IPython.core.display.Javascript object>"
      ]
     },
     "metadata": {},
     "output_type": "display_data"
    },
    {
     "name": "stdout",
     "output_type": "stream",
     "text": [
      "[jovian] Updating notebook \"anamikaofficial96/coursera-data-analysis\" on https://jovian.com\u001b[0m\n",
      "[jovian] Committed successfully! https://jovian.com/anamikaofficial96/coursera-data-analysis\u001b[0m\n"
     ]
    },
    {
     "data": {
      "text/plain": [
       "'https://jovian.com/anamikaofficial96/coursera-data-analysis'"
      ]
     },
     "execution_count": 53,
     "metadata": {},
     "output_type": "execute_result"
    }
   ],
   "source": [
    "jovian.commit(project='COURSERA DATA ANALYSIS')"
   ]
  },
  {
   "cell_type": "markdown",
   "metadata": {},
   "source": [
    "# Inferences and Conclusion"
   ]
  },
  {
   "cell_type": "markdown",
   "metadata": {},
   "source": [
    "In this document has been analyzed the Coursera course dataset by importing, cleaning, and preparing data from the Kaggle database. To have a better comprehension, data has been represented employing different graphs.\n",
    "\n",
    "From the analysis we take a set of conclusions:\n",
    "- Courses on Data Science and Machine Learning are in demand on this platform.\n",
    "- The course providing organisations has kept the level of maximum courses as \"Beginners Friendly\" so that anyone at any education level can pursue these courses.\n",
    "- The 'COURSE' certificate type is the most sought after certification type among the students.\n",
    "- The average number of students enrollment from all the total 891 courses is around 90,550.\n",
    "- On an average most of the courses has maintained the course rating between 4.6 - 4.8."
   ]
  },
  {
   "cell_type": "markdown",
   "metadata": {},
   "source": [
    "# References and Future Works\n",
    "\n",
    "Thanks for giving a view on my project.\n",
    "I hope you watched my entire analysis on Coursera Dataset and get some knowledge from it. This Project is a part of the Course<a href=\"https://jovian.ai/learn/data-analysis-with-python-zero-to-pandas\"> `DATA ANALYSIS WITH PYTHON :ZERO_TO_PANDAS`.</a>\n",
    "I would like to express my gratitude to _Aakash NS_ and the whole _Jovian.ml_ team for giving me an Oppurtunity to make such an wonderful data exploratory project. Follow [Jovian](https://jovian.ml/forum/) forum to know more about different courses on Data Science, ML etc. and connect with a huge community of students and enthusiasts.\n",
    "\n",
    "__Future Work__\n",
    "\n",
    "There are lot of scopes of improvement can be added in this project in future, with the data provided and adding extra datasets we can,\n",
    "* Calculate the percentage of gender ratio per course.\n",
    "* Determine the percentage of course completion rate using web scraping.\n",
    "* also we can calculate the ratings and reviews per module of each course.\n",
    "* make comparison between the Data analysis and machine learning courses provided on this platform and on other platforms.\n",
    "* distinguish the relation between overall rating and module wise ratings of each courses.\n",
    "\n",
    "__REFERENCES__\n",
    "\n",
    "* Coursera Dataset: https://www.kaggle.com/datasets/siddharthm1698/coursera-course-dataset?select=coursera_data.csv\n",
    "\n",
    "* Kaggle Datasets (Choose Dataset of your choice): https://www.kaggle.com/datasets \n",
    "\n",
    "* Pandas user guide: https://pandas.pydata.org/docs/user_guide/index.html\n",
    "\n",
    "* Matplotlib user guide: https://matplotlib.org/3.3.1/users/index.html\n",
    "\n",
    "* Seaborn user guide & tutorial: https://seaborn.pydata.org/tutorial.html\n",
    "\n",
    "* Data analysis guide(https://jovian.ml/aakashns/python-pandas-data-analysis)\n",
    "\n",
    "* Jovian Forum (Ask Questions in this great community): https://jovian.ml/forum/\n",
    "\n",
    "* Stackoverflow Community (Get answers of any problems): https://stackoverflow.com/questions\n",
    "\n",
    "* Python solutions in Geeksforgeeks (Solutions made easy): https://www.geeksforgeeks.org/python-programming-language/\n",
    "\n",
    "\n",
    "### Steps to run this Notebook\n",
    "\n",
    "At first SignUp and Login in [https://www.jovian.ai/](https://www.jovian.ml) and click on the __Run__ Button. \n",
    "* Select Run on Binder a new tab will open. \n",
    "* Give some time for the binder to setup it will automatically set up an environment for you \n",
    "* Open the Jupyter Notebook that loads in your browser tab. \n",
    "* Select Kernel and Restart & Clear Output and then follow the below steps to download the dataset within the notebook\n",
    "\n",
    "__Kaggle__ allows users to find and publish data sets, explore and build models in a web-based data-science environment, work with other data scientists and machine learning engineers, and enter competitions to solve data science challenges.\n",
    "\n",
    "When you try to run the notebook, the code will stop at a time and ask for Kaggle Username and Kaggle Key to download the dataset from the Kaggle Website. Follow the steps given below to get your Kaggle username and Kaggle API Key  \n",
    "1. Sign in to https://kaggle.com/, then click on your profile picture on the top right and select \"My Account\" from the menu\n",
    "2. Scroll down to the \"API\" section and click \"Create New API Token\". This will download a file kaggle.json with the following contents: {\"username\":\"YOUR_KAGGLE_USERNAME\",\"key\":\"YOUR_KAGGLE_KEY\"}\n",
    "3. When you run opendatsets.download, you will be asked to enter your username & Kaggle API, which you can get from the file downloaded in step 2.\n",
    "Kaggle: https://www.kaggle.com/\n",
    "\n",
    "Jovian: https://www.jovian.ai/\n"
   ]
  },
  {
   "cell_type": "code",
   "execution_count": 54,
   "metadata": {},
   "outputs": [
    {
     "data": {
      "application/javascript": [
       "window.require && require([\"base/js/namespace\"],function(Jupyter){Jupyter.notebook.save_checkpoint()})"
      ],
      "text/plain": [
       "<IPython.core.display.Javascript object>"
      ]
     },
     "metadata": {},
     "output_type": "display_data"
    },
    {
     "name": "stdout",
     "output_type": "stream",
     "text": [
      "[jovian] Updating notebook \"anamikaofficial96/coursera-data-analysis\" on https://jovian.com\u001b[0m\n",
      "[jovian] Committed successfully! https://jovian.com/anamikaofficial96/coursera-data-analysis\u001b[0m\n"
     ]
    },
    {
     "data": {
      "text/plain": [
       "'https://jovian.com/anamikaofficial96/coursera-data-analysis'"
      ]
     },
     "execution_count": 54,
     "metadata": {},
     "output_type": "execute_result"
    }
   ],
   "source": [
    "jovian.commit(project='COURSERA DATA ANALYSIS')"
   ]
  },
  {
   "cell_type": "markdown",
   "metadata": {},
   "source": [
    "                                                  THANK YOU"
   ]
  },
  {
   "cell_type": "code",
   "execution_count": null,
   "metadata": {},
   "outputs": [],
   "source": []
  }
 ],
 "metadata": {
  "language_info": {
   "codemirror_mode": {
    "name": "ipython",
    "version": 3
   },
   "file_extension": ".py",
   "mimetype": "text/x-python",
   "name": "python",
   "nbconvert_exporter": "python",
   "pygments_lexer": "ipython3",
   "version": "3.9.7"
  }
 },
 "nbformat": 4,
 "nbformat_minor": 2
}